{
  "nbformat": 4,
  "nbformat_minor": 0,
  "metadata": {
    "colab": {
      "provenance": [],
      "mount_file_id": "1lIVTuasVgHR8CvhhS_FdAPtHn1ON1LCU",
      "authorship_tag": "ABX9TyO4Kegc/DMMhSOKf5jhsWq8",
      "include_colab_link": true
    },
    "kernelspec": {
      "name": "python3",
      "display_name": "Python 3"
    },
    "language_info": {
      "name": "python"
    }
  },
  "cells": [
    {
      "cell_type": "markdown",
      "metadata": {
        "id": "view-in-github",
        "colab_type": "text"
      },
      "source": [
        "<a href=\"https://colab.research.google.com/github/kristynatasha/Indonesian-Monsoon-Index/blob/main/fullscript.ipynb\" target=\"_parent\"><img src=\"https://colab.research.google.com/assets/colab-badge.svg\" alt=\"Open In Colab\"/></a>"
      ]
    },
    {
      "cell_type": "code",
      "source": [
        "from google.colab import drive\n",
        "drive.mount('/content/drive')"
      ],
      "metadata": {
        "id": "TRgcKiAdufaU",
        "colab": {
          "base_uri": "https://localhost:8080/"
        },
        "outputId": "3617a482-2e85-4a86-cfd7-06395f353247"
      },
      "execution_count": null,
      "outputs": [
        {
          "output_type": "stream",
          "name": "stdout",
          "text": [
            "Drive already mounted at /content/drive; to attempt to forcibly remount, call drive.mount(\"/content/drive\", force_remount=True).\n"
          ]
        }
      ]
    },
    {
      "cell_type": "markdown",
      "source": [
        "# Import Data NetCDF"
      ],
      "metadata": {
        "id": "KnG73_TEiiTj"
      }
    },
    {
      "cell_type": "markdown",
      "source": [
        "### **ERA-5**"
      ],
      "metadata": {
        "id": "GfT3L-56gp5b"
      }
    },
    {
      "cell_type": "code",
      "source": [
        "ls 'drive/MyDrive/TA/ERA-5/'"
      ],
      "metadata": {
        "colab": {
          "base_uri": "https://localhost:8080/"
        },
        "id": "Xx7fkOGMv-KK",
        "outputId": "b4737040-b11e-4024-f567-ebd78b08e3b0"
      },
      "execution_count": null,
      "outputs": [
        {
          "output_type": "stream",
          "name": "stdout",
          "text": [
            "adaptor.mars.internal-1678161008.4287508-3744-8-ae01e955-b325-454b-b526-a38983daab9c.nc\n",
            "adaptor.mars.internal-1678161863.2949512-16760-2-de3f95de-b4ee-4d31-88af-852368d8ea26.nc\n",
            "adaptor.mars.internal-200hPa-1959-2022.nc\n",
            "adaptor.mars.internal-200hPa-2023.nc\n",
            "adaptor.mars.internal-850hPa-1959-2022.nc\n",
            "adaptor.mars.internal-850hPa-2023.nc\n"
          ]
        }
      ]
    },
    {
      "cell_type": "code",
      "source": [
        "!pip install NetCDF4"
      ],
      "metadata": {
        "colab": {
          "base_uri": "https://localhost:8080/"
        },
        "id": "5aEXMqdLPq4X",
        "outputId": "6b58be25-566e-4d20-fe53-eb89aa685506"
      },
      "execution_count": null,
      "outputs": [
        {
          "output_type": "stream",
          "name": "stdout",
          "text": [
            "Collecting NetCDF4\n",
            "  Downloading netCDF4-1.6.4-cp310-cp310-manylinux_2_17_x86_64.manylinux2014_x86_64.whl (5.4 MB)\n",
            "\u001b[2K     \u001b[90m━━━━━━━━━━━━━━━━━━━━━━━━━━━━━━━━━━━━━━━━\u001b[0m \u001b[32m5.4/5.4 MB\u001b[0m \u001b[31m38.4 MB/s\u001b[0m eta \u001b[36m0:00:00\u001b[0m\n",
            "\u001b[?25hCollecting cftime (from NetCDF4)\n",
            "  Downloading cftime-1.6.2-cp310-cp310-manylinux_2_17_x86_64.manylinux2014_x86_64.whl (1.2 MB)\n",
            "\u001b[2K     \u001b[90m━━━━━━━━━━━━━━━━━━━━━━━━━━━━━━━━━━━━━━━━\u001b[0m \u001b[32m1.2/1.2 MB\u001b[0m \u001b[31m59.8 MB/s\u001b[0m eta \u001b[36m0:00:00\u001b[0m\n",
            "\u001b[?25hRequirement already satisfied: certifi in /usr/local/lib/python3.10/dist-packages (from NetCDF4) (2023.5.7)\n",
            "Requirement already satisfied: numpy in /usr/local/lib/python3.10/dist-packages (from NetCDF4) (1.22.4)\n",
            "Installing collected packages: cftime, NetCDF4\n",
            "Successfully installed NetCDF4-1.6.4 cftime-1.6.2\n"
          ]
        }
      ]
    },
    {
      "cell_type": "code",
      "source": [
        "import sys\n",
        "import numpy as np\n",
        "import matplotlib.pyplot as plt\n",
        "from scipy.special import comb\n",
        "import scipy.stats as st\n",
        "import xarray as xr\n",
        "#from NetCDF4 import Dataset\n",
        "import NetCDF4 as nc\n",
        "import pandas as pd"
      ],
      "metadata": {
        "id": "6E2QgNQc6F9O",
        "colab": {
          "base_uri": "https://localhost:8080/",
          "height": 356
        },
        "outputId": "1e740c51-e471-4262-d578-2a3262740b49"
      },
      "execution_count": null,
      "outputs": [
        {
          "output_type": "error",
          "ename": "ModuleNotFoundError",
          "evalue": "ignored",
          "traceback": [
            "\u001b[0;31m---------------------------------------------------------------------------\u001b[0m",
            "\u001b[0;31mModuleNotFoundError\u001b[0m                       Traceback (most recent call last)",
            "\u001b[0;32m<ipython-input-11-a5fbab3d19ca>\u001b[0m in \u001b[0;36m<cell line: 8>\u001b[0;34m()\u001b[0m\n\u001b[1;32m      6\u001b[0m \u001b[0;32mimport\u001b[0m \u001b[0mxarray\u001b[0m \u001b[0;32mas\u001b[0m \u001b[0mxr\u001b[0m\u001b[0;34m\u001b[0m\u001b[0;34m\u001b[0m\u001b[0m\n\u001b[1;32m      7\u001b[0m \u001b[0;31m#from NetCDF4 import Dataset\u001b[0m\u001b[0;34m\u001b[0m\u001b[0;34m\u001b[0m\u001b[0m\n\u001b[0;32m----> 8\u001b[0;31m \u001b[0;32mimport\u001b[0m \u001b[0mNetCDF4\u001b[0m \u001b[0;32mas\u001b[0m \u001b[0mnc\u001b[0m\u001b[0;34m\u001b[0m\u001b[0;34m\u001b[0m\u001b[0m\n\u001b[0m\u001b[1;32m      9\u001b[0m \u001b[0;32mimport\u001b[0m \u001b[0mpandas\u001b[0m \u001b[0;32mas\u001b[0m \u001b[0mpd\u001b[0m\u001b[0;34m\u001b[0m\u001b[0;34m\u001b[0m\u001b[0m\n",
            "\u001b[0;31mModuleNotFoundError\u001b[0m: No module named 'NetCDF4'",
            "",
            "\u001b[0;31m---------------------------------------------------------------------------\u001b[0;32m\nNOTE: If your import is failing due to a missing package, you can\nmanually install dependencies using either !pip or !apt.\n\nTo view examples of installing some common dependencies, click the\n\"Open Examples\" button below.\n\u001b[0;31m---------------------------------------------------------------------------\u001b[0m\n"
          ],
          "errorDetails": {
            "actions": [
              {
                "action": "open_url",
                "actionText": "Open Examples",
                "url": "/notebooks/snippets/importing_libraries.ipynb"
              }
            ]
          }
        }
      ]
    },
    {
      "cell_type": "code",
      "source": [
        "# Load the NetCDF data into an xarray dataset\n",
        "data = xr.open_dataset('drive/MyDrive/TA/ERA-5/adaptor.mars.internal-850hPa-2023.nc')\n",
        "data"
      ],
      "metadata": {
        "id": "atEvA_ImfFQD"
      },
      "execution_count": null,
      "outputs": []
    },
    {
      "cell_type": "code",
      "source": [
        "# Extract the wind data at 200hPa and 850hPa\n",
        "#wind_200hPa = data.u\n",
        "#.sel(expver=1)\n",
        "wind_850hPa = data.u\n",
        "#.sel(expver=1)\n",
        "#+ 1j * data.v.sel(expver=1)\n",
        "#wind_200hPa = data.u.sel(level=200) + 1j * data.v.sel(level=200)\n",
        "\n",
        "# Compute the result (i.e., load the data into memory)\n",
        "wind_850hPa = wind_850hPa.compute()\n",
        "#wind_200hPa = wind_200hPa.compute()\n",
        "\n",
        "# Assign a name to your DataArray\n",
        "#wind_850hPa.name = 'wind'\n",
        "\n",
        "wind_850hPa\n",
        "#wind_200hPa"
      ],
      "metadata": {
        "id": "q7w-mES3yg6Q"
      },
      "execution_count": null,
      "outputs": []
    },
    {
      "cell_type": "code",
      "source": [
        "import pandas as pd\n",
        "\n",
        "# Assign a name to your DataArray\n",
        "wind_850hPa.name = 'wind'\n",
        "\n",
        "# Convert DataArray to DataFrame\n",
        "df = wind_850hPa.to_dataframe()\n",
        "\n",
        "# Save DataFrame as Excel file\n",
        "df.to_excel(\"drive/MyDrive/TA/U850hPa-2023.xlsx\")"
      ],
      "metadata": {
        "id": "0PsFkLptWLvo"
      },
      "execution_count": null,
      "outputs": []
    },
    {
      "cell_type": "code",
      "source": [
        "import pandas as pd\n",
        "\n",
        "# Create a new Excel file with one sheet\n",
        "with pd.ExcelWriter('drive/MyDrive/TA/U200hPa-2023.xlsx') as writer:\n",
        "    wind_200hPa.isel(time=0).to_dataframe().to_excel(writer, sheet_name='Sheet1', index=False)\n",
        "\n",
        "    # Loop over the remaining time steps and append to the same sheet\n",
        "    start_row = 1\n",
        "    for i in range(1, len(wind_200hPa.time)):\n",
        "        num_rows = wind_200hPa.isel(time=i).shape[0]\n",
        "        end_row = start_row + num_rows - 1\n",
        "        wind_200hPa.isel(time=i).to_dataframe().to_excel(writer, sheet_name='Sheet1', startrow=start_row, index=False, header=False)\n",
        "        start_row = end_row + 1"
      ],
      "metadata": {
        "id": "wsPYz9HvyaWJ",
        "colab": {
          "base_uri": "https://localhost:8080/",
          "height": 432
        },
        "outputId": "60ee2977-7370-49dd-ef96-9e7bdaf6e833"
      },
      "execution_count": null,
      "outputs": [
        {
          "output_type": "error",
          "ename": "IndexError",
          "evalue": "ignored",
          "traceback": [
            "\u001b[0;31m---------------------------------------------------------------------------\u001b[0m",
            "\u001b[0;31mNameError\u001b[0m                                 Traceback (most recent call last)",
            "\u001b[0;32m<ipython-input-17-fee7d256852a>\u001b[0m in \u001b[0;36m<cell line: 4>\u001b[0;34m()\u001b[0m\n\u001b[1;32m      4\u001b[0m \u001b[0;32mwith\u001b[0m \u001b[0mpd\u001b[0m\u001b[0;34m.\u001b[0m\u001b[0mExcelWriter\u001b[0m\u001b[0;34m(\u001b[0m\u001b[0;34m'drive/MyDrive/TA/U200hPa-2023.xlsx'\u001b[0m\u001b[0;34m)\u001b[0m \u001b[0;32mas\u001b[0m \u001b[0mwriter\u001b[0m\u001b[0;34m:\u001b[0m\u001b[0;34m\u001b[0m\u001b[0;34m\u001b[0m\u001b[0m\n\u001b[0;32m----> 5\u001b[0;31m     \u001b[0mwind_200hPa\u001b[0m\u001b[0;34m.\u001b[0m\u001b[0misel\u001b[0m\u001b[0;34m(\u001b[0m\u001b[0mtime\u001b[0m\u001b[0;34m=\u001b[0m\u001b[0;36m0\u001b[0m\u001b[0;34m)\u001b[0m\u001b[0;34m.\u001b[0m\u001b[0mto_dataframe\u001b[0m\u001b[0;34m(\u001b[0m\u001b[0;34m)\u001b[0m\u001b[0;34m.\u001b[0m\u001b[0mto_excel\u001b[0m\u001b[0;34m(\u001b[0m\u001b[0mwriter\u001b[0m\u001b[0;34m,\u001b[0m \u001b[0msheet_name\u001b[0m\u001b[0;34m=\u001b[0m\u001b[0;34m'Sheet1'\u001b[0m\u001b[0;34m,\u001b[0m \u001b[0mindex\u001b[0m\u001b[0;34m=\u001b[0m\u001b[0;32mFalse\u001b[0m\u001b[0;34m)\u001b[0m\u001b[0;34m\u001b[0m\u001b[0;34m\u001b[0m\u001b[0m\n\u001b[0m\u001b[1;32m      6\u001b[0m \u001b[0;34m\u001b[0m\u001b[0m\n",
            "\u001b[0;31mNameError\u001b[0m: name 'wind_200hPa' is not defined",
            "\nDuring handling of the above exception, another exception occurred:\n",
            "\u001b[0;31mIndexError\u001b[0m                                Traceback (most recent call last)",
            "\u001b[0;32m<ipython-input-17-fee7d256852a>\u001b[0m in \u001b[0;36m<cell line: 4>\u001b[0;34m()\u001b[0m\n\u001b[1;32m      2\u001b[0m \u001b[0;34m\u001b[0m\u001b[0m\n\u001b[1;32m      3\u001b[0m \u001b[0;31m# Create a new Excel file with one sheet\u001b[0m\u001b[0;34m\u001b[0m\u001b[0;34m\u001b[0m\u001b[0m\n\u001b[0;32m----> 4\u001b[0;31m \u001b[0;32mwith\u001b[0m \u001b[0mpd\u001b[0m\u001b[0;34m.\u001b[0m\u001b[0mExcelWriter\u001b[0m\u001b[0;34m(\u001b[0m\u001b[0;34m'drive/MyDrive/TA/U200hPa-2023.xlsx'\u001b[0m\u001b[0;34m)\u001b[0m \u001b[0;32mas\u001b[0m \u001b[0mwriter\u001b[0m\u001b[0;34m:\u001b[0m\u001b[0;34m\u001b[0m\u001b[0;34m\u001b[0m\u001b[0m\n\u001b[0m\u001b[1;32m      5\u001b[0m     \u001b[0mwind_200hPa\u001b[0m\u001b[0;34m.\u001b[0m\u001b[0misel\u001b[0m\u001b[0;34m(\u001b[0m\u001b[0mtime\u001b[0m\u001b[0;34m=\u001b[0m\u001b[0;36m0\u001b[0m\u001b[0;34m)\u001b[0m\u001b[0;34m.\u001b[0m\u001b[0mto_dataframe\u001b[0m\u001b[0;34m(\u001b[0m\u001b[0;34m)\u001b[0m\u001b[0;34m.\u001b[0m\u001b[0mto_excel\u001b[0m\u001b[0;34m(\u001b[0m\u001b[0mwriter\u001b[0m\u001b[0;34m,\u001b[0m \u001b[0msheet_name\u001b[0m\u001b[0;34m=\u001b[0m\u001b[0;34m'Sheet1'\u001b[0m\u001b[0;34m,\u001b[0m \u001b[0mindex\u001b[0m\u001b[0;34m=\u001b[0m\u001b[0;32mFalse\u001b[0m\u001b[0;34m)\u001b[0m\u001b[0;34m\u001b[0m\u001b[0;34m\u001b[0m\u001b[0m\n\u001b[1;32m      6\u001b[0m \u001b[0;34m\u001b[0m\u001b[0m\n",
            "\u001b[0;32m/usr/local/lib/python3.10/dist-packages/pandas/io/excel/_base.py\u001b[0m in \u001b[0;36m__exit__\u001b[0;34m(self, exc_type, exc_value, traceback)\u001b[0m\n\u001b[1;32m   1474\u001b[0m \u001b[0;34m\u001b[0m\u001b[0m\n\u001b[1;32m   1475\u001b[0m     \u001b[0;32mdef\u001b[0m \u001b[0m__exit__\u001b[0m\u001b[0;34m(\u001b[0m\u001b[0mself\u001b[0m\u001b[0;34m,\u001b[0m \u001b[0mexc_type\u001b[0m\u001b[0;34m,\u001b[0m \u001b[0mexc_value\u001b[0m\u001b[0;34m,\u001b[0m \u001b[0mtraceback\u001b[0m\u001b[0;34m)\u001b[0m \u001b[0;34m->\u001b[0m \u001b[0;32mNone\u001b[0m\u001b[0;34m:\u001b[0m\u001b[0;34m\u001b[0m\u001b[0;34m\u001b[0m\u001b[0m\n\u001b[0;32m-> 1476\u001b[0;31m         \u001b[0mself\u001b[0m\u001b[0;34m.\u001b[0m\u001b[0mclose\u001b[0m\u001b[0;34m(\u001b[0m\u001b[0;34m)\u001b[0m\u001b[0;34m\u001b[0m\u001b[0;34m\u001b[0m\u001b[0m\n\u001b[0m\u001b[1;32m   1477\u001b[0m \u001b[0;34m\u001b[0m\u001b[0m\n\u001b[1;32m   1478\u001b[0m     \u001b[0;32mdef\u001b[0m \u001b[0mclose\u001b[0m\u001b[0;34m(\u001b[0m\u001b[0mself\u001b[0m\u001b[0;34m)\u001b[0m \u001b[0;34m->\u001b[0m \u001b[0;32mNone\u001b[0m\u001b[0;34m:\u001b[0m\u001b[0;34m\u001b[0m\u001b[0;34m\u001b[0m\u001b[0m\n",
            "\u001b[0;32m/usr/local/lib/python3.10/dist-packages/pandas/io/excel/_base.py\u001b[0m in \u001b[0;36mclose\u001b[0;34m(self)\u001b[0m\n\u001b[1;32m   1478\u001b[0m     \u001b[0;32mdef\u001b[0m \u001b[0mclose\u001b[0m\u001b[0;34m(\u001b[0m\u001b[0mself\u001b[0m\u001b[0;34m)\u001b[0m \u001b[0;34m->\u001b[0m \u001b[0;32mNone\u001b[0m\u001b[0;34m:\u001b[0m\u001b[0;34m\u001b[0m\u001b[0;34m\u001b[0m\u001b[0m\n\u001b[1;32m   1479\u001b[0m         \u001b[0;34m\"\"\"synonym for save, to make it more file-like\"\"\"\u001b[0m\u001b[0;34m\u001b[0m\u001b[0;34m\u001b[0m\u001b[0m\n\u001b[0;32m-> 1480\u001b[0;31m         \u001b[0mself\u001b[0m\u001b[0;34m.\u001b[0m\u001b[0m_save\u001b[0m\u001b[0;34m(\u001b[0m\u001b[0;34m)\u001b[0m\u001b[0;34m\u001b[0m\u001b[0;34m\u001b[0m\u001b[0m\n\u001b[0m\u001b[1;32m   1481\u001b[0m         \u001b[0mself\u001b[0m\u001b[0;34m.\u001b[0m\u001b[0m_handles\u001b[0m\u001b[0;34m.\u001b[0m\u001b[0mclose\u001b[0m\u001b[0;34m(\u001b[0m\u001b[0;34m)\u001b[0m\u001b[0;34m\u001b[0m\u001b[0;34m\u001b[0m\u001b[0m\n\u001b[1;32m   1482\u001b[0m \u001b[0;34m\u001b[0m\u001b[0m\n",
            "\u001b[0;32m/usr/local/lib/python3.10/dist-packages/pandas/io/excel/_openpyxl.py\u001b[0m in \u001b[0;36m_save\u001b[0;34m(self)\u001b[0m\n\u001b[1;32m    107\u001b[0m         \u001b[0mSave\u001b[0m \u001b[0mworkbook\u001b[0m \u001b[0mto\u001b[0m \u001b[0mdisk\u001b[0m\u001b[0;34m.\u001b[0m\u001b[0;34m\u001b[0m\u001b[0;34m\u001b[0m\u001b[0m\n\u001b[1;32m    108\u001b[0m         \"\"\"\n\u001b[0;32m--> 109\u001b[0;31m         \u001b[0mself\u001b[0m\u001b[0;34m.\u001b[0m\u001b[0mbook\u001b[0m\u001b[0;34m.\u001b[0m\u001b[0msave\u001b[0m\u001b[0;34m(\u001b[0m\u001b[0mself\u001b[0m\u001b[0;34m.\u001b[0m\u001b[0m_handles\u001b[0m\u001b[0;34m.\u001b[0m\u001b[0mhandle\u001b[0m\u001b[0;34m)\u001b[0m\u001b[0;34m\u001b[0m\u001b[0;34m\u001b[0m\u001b[0m\n\u001b[0m\u001b[1;32m    110\u001b[0m         \u001b[0;32mif\u001b[0m \u001b[0;34m\"r+\"\u001b[0m \u001b[0;32min\u001b[0m \u001b[0mself\u001b[0m\u001b[0;34m.\u001b[0m\u001b[0m_mode\u001b[0m \u001b[0;32mand\u001b[0m \u001b[0;32mnot\u001b[0m \u001b[0misinstance\u001b[0m\u001b[0;34m(\u001b[0m\u001b[0mself\u001b[0m\u001b[0;34m.\u001b[0m\u001b[0m_handles\u001b[0m\u001b[0;34m.\u001b[0m\u001b[0mhandle\u001b[0m\u001b[0;34m,\u001b[0m \u001b[0mmmap\u001b[0m\u001b[0;34m.\u001b[0m\u001b[0mmmap\u001b[0m\u001b[0;34m)\u001b[0m\u001b[0;34m:\u001b[0m\u001b[0;34m\u001b[0m\u001b[0;34m\u001b[0m\u001b[0m\n\u001b[1;32m    111\u001b[0m             \u001b[0;31m# truncate file to the written content\u001b[0m\u001b[0;34m\u001b[0m\u001b[0;34m\u001b[0m\u001b[0m\n",
            "\u001b[0;32m/usr/local/lib/python3.10/dist-packages/openpyxl/workbook/workbook.py\u001b[0m in \u001b[0;36msave\u001b[0;34m(self, filename)\u001b[0m\n\u001b[1;32m    405\u001b[0m         \u001b[0;32mif\u001b[0m \u001b[0mself\u001b[0m\u001b[0;34m.\u001b[0m\u001b[0mwrite_only\u001b[0m \u001b[0;32mand\u001b[0m \u001b[0;32mnot\u001b[0m \u001b[0mself\u001b[0m\u001b[0;34m.\u001b[0m\u001b[0mworksheets\u001b[0m\u001b[0;34m:\u001b[0m\u001b[0;34m\u001b[0m\u001b[0;34m\u001b[0m\u001b[0m\n\u001b[1;32m    406\u001b[0m             \u001b[0mself\u001b[0m\u001b[0;34m.\u001b[0m\u001b[0mcreate_sheet\u001b[0m\u001b[0;34m(\u001b[0m\u001b[0;34m)\u001b[0m\u001b[0;34m\u001b[0m\u001b[0;34m\u001b[0m\u001b[0m\n\u001b[0;32m--> 407\u001b[0;31m         \u001b[0msave_workbook\u001b[0m\u001b[0;34m(\u001b[0m\u001b[0mself\u001b[0m\u001b[0;34m,\u001b[0m \u001b[0mfilename\u001b[0m\u001b[0;34m)\u001b[0m\u001b[0;34m\u001b[0m\u001b[0;34m\u001b[0m\u001b[0m\n\u001b[0m\u001b[1;32m    408\u001b[0m \u001b[0;34m\u001b[0m\u001b[0m\n\u001b[1;32m    409\u001b[0m \u001b[0;34m\u001b[0m\u001b[0m\n",
            "\u001b[0;32m/usr/local/lib/python3.10/dist-packages/openpyxl/writer/excel.py\u001b[0m in \u001b[0;36msave_workbook\u001b[0;34m(workbook, filename)\u001b[0m\n\u001b[1;32m    291\u001b[0m     \u001b[0marchive\u001b[0m \u001b[0;34m=\u001b[0m \u001b[0mZipFile\u001b[0m\u001b[0;34m(\u001b[0m\u001b[0mfilename\u001b[0m\u001b[0;34m,\u001b[0m \u001b[0;34m'w'\u001b[0m\u001b[0;34m,\u001b[0m \u001b[0mZIP_DEFLATED\u001b[0m\u001b[0;34m,\u001b[0m \u001b[0mallowZip64\u001b[0m\u001b[0;34m=\u001b[0m\u001b[0;32mTrue\u001b[0m\u001b[0;34m)\u001b[0m\u001b[0;34m\u001b[0m\u001b[0;34m\u001b[0m\u001b[0m\n\u001b[1;32m    292\u001b[0m     \u001b[0mwriter\u001b[0m \u001b[0;34m=\u001b[0m \u001b[0mExcelWriter\u001b[0m\u001b[0;34m(\u001b[0m\u001b[0mworkbook\u001b[0m\u001b[0;34m,\u001b[0m \u001b[0marchive\u001b[0m\u001b[0;34m)\u001b[0m\u001b[0;34m\u001b[0m\u001b[0;34m\u001b[0m\u001b[0m\n\u001b[0;32m--> 293\u001b[0;31m     \u001b[0mwriter\u001b[0m\u001b[0;34m.\u001b[0m\u001b[0msave\u001b[0m\u001b[0;34m(\u001b[0m\u001b[0;34m)\u001b[0m\u001b[0;34m\u001b[0m\u001b[0;34m\u001b[0m\u001b[0m\n\u001b[0m\u001b[1;32m    294\u001b[0m     \u001b[0;32mreturn\u001b[0m \u001b[0;32mTrue\u001b[0m\u001b[0;34m\u001b[0m\u001b[0;34m\u001b[0m\u001b[0m\n\u001b[1;32m    295\u001b[0m \u001b[0;34m\u001b[0m\u001b[0m\n",
            "\u001b[0;32m/usr/local/lib/python3.10/dist-packages/openpyxl/writer/excel.py\u001b[0m in \u001b[0;36msave\u001b[0;34m(self)\u001b[0m\n\u001b[1;32m    273\u001b[0m     \u001b[0;32mdef\u001b[0m \u001b[0msave\u001b[0m\u001b[0;34m(\u001b[0m\u001b[0mself\u001b[0m\u001b[0;34m)\u001b[0m\u001b[0;34m:\u001b[0m\u001b[0;34m\u001b[0m\u001b[0;34m\u001b[0m\u001b[0m\n\u001b[1;32m    274\u001b[0m         \u001b[0;34m\"\"\"Write data into the archive.\"\"\"\u001b[0m\u001b[0;34m\u001b[0m\u001b[0;34m\u001b[0m\u001b[0m\n\u001b[0;32m--> 275\u001b[0;31m         \u001b[0mself\u001b[0m\u001b[0;34m.\u001b[0m\u001b[0mwrite_data\u001b[0m\u001b[0;34m(\u001b[0m\u001b[0;34m)\u001b[0m\u001b[0;34m\u001b[0m\u001b[0;34m\u001b[0m\u001b[0m\n\u001b[0m\u001b[1;32m    276\u001b[0m         \u001b[0mself\u001b[0m\u001b[0;34m.\u001b[0m\u001b[0m_archive\u001b[0m\u001b[0;34m.\u001b[0m\u001b[0mclose\u001b[0m\u001b[0;34m(\u001b[0m\u001b[0;34m)\u001b[0m\u001b[0;34m\u001b[0m\u001b[0;34m\u001b[0m\u001b[0m\n\u001b[1;32m    277\u001b[0m \u001b[0;34m\u001b[0m\u001b[0m\n",
            "\u001b[0;32m/usr/local/lib/python3.10/dist-packages/openpyxl/writer/excel.py\u001b[0m in \u001b[0;36mwrite_data\u001b[0;34m(self)\u001b[0m\n\u001b[1;32m     87\u001b[0m         \u001b[0mwriter\u001b[0m \u001b[0;34m=\u001b[0m \u001b[0mWorkbookWriter\u001b[0m\u001b[0;34m(\u001b[0m\u001b[0mself\u001b[0m\u001b[0;34m.\u001b[0m\u001b[0mworkbook\u001b[0m\u001b[0;34m)\u001b[0m\u001b[0;34m\u001b[0m\u001b[0;34m\u001b[0m\u001b[0m\n\u001b[1;32m     88\u001b[0m         \u001b[0marchive\u001b[0m\u001b[0;34m.\u001b[0m\u001b[0mwritestr\u001b[0m\u001b[0;34m(\u001b[0m\u001b[0mARC_ROOT_RELS\u001b[0m\u001b[0;34m,\u001b[0m \u001b[0mwriter\u001b[0m\u001b[0;34m.\u001b[0m\u001b[0mwrite_root_rels\u001b[0m\u001b[0;34m(\u001b[0m\u001b[0;34m)\u001b[0m\u001b[0;34m)\u001b[0m\u001b[0;34m\u001b[0m\u001b[0;34m\u001b[0m\u001b[0m\n\u001b[0;32m---> 89\u001b[0;31m         \u001b[0marchive\u001b[0m\u001b[0;34m.\u001b[0m\u001b[0mwritestr\u001b[0m\u001b[0;34m(\u001b[0m\u001b[0mARC_WORKBOOK\u001b[0m\u001b[0;34m,\u001b[0m \u001b[0mwriter\u001b[0m\u001b[0;34m.\u001b[0m\u001b[0mwrite\u001b[0m\u001b[0;34m(\u001b[0m\u001b[0;34m)\u001b[0m\u001b[0;34m)\u001b[0m\u001b[0;34m\u001b[0m\u001b[0;34m\u001b[0m\u001b[0m\n\u001b[0m\u001b[1;32m     90\u001b[0m         \u001b[0marchive\u001b[0m\u001b[0;34m.\u001b[0m\u001b[0mwritestr\u001b[0m\u001b[0;34m(\u001b[0m\u001b[0mARC_WORKBOOK_RELS\u001b[0m\u001b[0;34m,\u001b[0m \u001b[0mwriter\u001b[0m\u001b[0;34m.\u001b[0m\u001b[0mwrite_rels\u001b[0m\u001b[0;34m(\u001b[0m\u001b[0;34m)\u001b[0m\u001b[0;34m)\u001b[0m\u001b[0;34m\u001b[0m\u001b[0;34m\u001b[0m\u001b[0m\n\u001b[1;32m     91\u001b[0m \u001b[0;34m\u001b[0m\u001b[0m\n",
            "\u001b[0;32m/usr/local/lib/python3.10/dist-packages/openpyxl/workbook/_writer.py\u001b[0m in \u001b[0;36mwrite\u001b[0;34m(self)\u001b[0m\n\u001b[1;32m    146\u001b[0m         \u001b[0mself\u001b[0m\u001b[0;34m.\u001b[0m\u001b[0mwrite_names\u001b[0m\u001b[0;34m(\u001b[0m\u001b[0;34m)\u001b[0m\u001b[0;34m\u001b[0m\u001b[0;34m\u001b[0m\u001b[0m\n\u001b[1;32m    147\u001b[0m         \u001b[0mself\u001b[0m\u001b[0;34m.\u001b[0m\u001b[0mwrite_pivots\u001b[0m\u001b[0;34m(\u001b[0m\u001b[0;34m)\u001b[0m\u001b[0;34m\u001b[0m\u001b[0;34m\u001b[0m\u001b[0m\n\u001b[0;32m--> 148\u001b[0;31m         \u001b[0mself\u001b[0m\u001b[0;34m.\u001b[0m\u001b[0mwrite_views\u001b[0m\u001b[0;34m(\u001b[0m\u001b[0;34m)\u001b[0m\u001b[0;34m\u001b[0m\u001b[0;34m\u001b[0m\u001b[0m\n\u001b[0m\u001b[1;32m    149\u001b[0m         \u001b[0mself\u001b[0m\u001b[0;34m.\u001b[0m\u001b[0mwrite_refs\u001b[0m\u001b[0;34m(\u001b[0m\u001b[0;34m)\u001b[0m\u001b[0;34m\u001b[0m\u001b[0;34m\u001b[0m\u001b[0m\n\u001b[1;32m    150\u001b[0m \u001b[0;34m\u001b[0m\u001b[0m\n",
            "\u001b[0;32m/usr/local/lib/python3.10/dist-packages/openpyxl/workbook/_writer.py\u001b[0m in \u001b[0;36mwrite_views\u001b[0;34m(self)\u001b[0m\n\u001b[1;32m    133\u001b[0m \u001b[0;34m\u001b[0m\u001b[0m\n\u001b[1;32m    134\u001b[0m     \u001b[0;32mdef\u001b[0m \u001b[0mwrite_views\u001b[0m\u001b[0;34m(\u001b[0m\u001b[0mself\u001b[0m\u001b[0;34m)\u001b[0m\u001b[0;34m:\u001b[0m\u001b[0;34m\u001b[0m\u001b[0;34m\u001b[0m\u001b[0m\n\u001b[0;32m--> 135\u001b[0;31m         \u001b[0mactive\u001b[0m \u001b[0;34m=\u001b[0m \u001b[0mget_active_sheet\u001b[0m\u001b[0;34m(\u001b[0m\u001b[0mself\u001b[0m\u001b[0;34m.\u001b[0m\u001b[0mwb\u001b[0m\u001b[0;34m)\u001b[0m\u001b[0;34m\u001b[0m\u001b[0;34m\u001b[0m\u001b[0m\n\u001b[0m\u001b[1;32m    136\u001b[0m         \u001b[0;32mif\u001b[0m \u001b[0mself\u001b[0m\u001b[0;34m.\u001b[0m\u001b[0mwb\u001b[0m\u001b[0;34m.\u001b[0m\u001b[0mviews\u001b[0m\u001b[0;34m:\u001b[0m\u001b[0;34m\u001b[0m\u001b[0;34m\u001b[0m\u001b[0m\n\u001b[1;32m    137\u001b[0m             \u001b[0mself\u001b[0m\u001b[0;34m.\u001b[0m\u001b[0mwb\u001b[0m\u001b[0;34m.\u001b[0m\u001b[0mviews\u001b[0m\u001b[0;34m[\u001b[0m\u001b[0;36m0\u001b[0m\u001b[0;34m]\u001b[0m\u001b[0;34m.\u001b[0m\u001b[0mactiveTab\u001b[0m \u001b[0;34m=\u001b[0m \u001b[0mactive\u001b[0m\u001b[0;34m\u001b[0m\u001b[0;34m\u001b[0m\u001b[0m\n",
            "\u001b[0;32m/usr/local/lib/python3.10/dist-packages/openpyxl/workbook/_writer.py\u001b[0m in \u001b[0;36mget_active_sheet\u001b[0;34m(wb)\u001b[0m\n\u001b[1;32m     31\u001b[0m     \u001b[0mvisible_sheets\u001b[0m \u001b[0;34m=\u001b[0m \u001b[0;34m[\u001b[0m\u001b[0midx\u001b[0m \u001b[0;32mfor\u001b[0m \u001b[0midx\u001b[0m\u001b[0;34m,\u001b[0m \u001b[0msheet\u001b[0m \u001b[0;32min\u001b[0m \u001b[0menumerate\u001b[0m\u001b[0;34m(\u001b[0m\u001b[0mwb\u001b[0m\u001b[0;34m.\u001b[0m\u001b[0m_sheets\u001b[0m\u001b[0;34m)\u001b[0m \u001b[0;32mif\u001b[0m \u001b[0msheet\u001b[0m\u001b[0;34m.\u001b[0m\u001b[0msheet_state\u001b[0m \u001b[0;34m==\u001b[0m \u001b[0;34m\"visible\"\u001b[0m\u001b[0;34m]\u001b[0m\u001b[0;34m\u001b[0m\u001b[0;34m\u001b[0m\u001b[0m\n\u001b[1;32m     32\u001b[0m     \u001b[0;32mif\u001b[0m \u001b[0;32mnot\u001b[0m \u001b[0mvisible_sheets\u001b[0m\u001b[0;34m:\u001b[0m\u001b[0;34m\u001b[0m\u001b[0;34m\u001b[0m\u001b[0m\n\u001b[0;32m---> 33\u001b[0;31m         \u001b[0;32mraise\u001b[0m \u001b[0mIndexError\u001b[0m\u001b[0;34m(\u001b[0m\u001b[0;34m\"At least one sheet must be visible\"\u001b[0m\u001b[0;34m)\u001b[0m\u001b[0;34m\u001b[0m\u001b[0;34m\u001b[0m\u001b[0m\n\u001b[0m\u001b[1;32m     34\u001b[0m \u001b[0;34m\u001b[0m\u001b[0m\n\u001b[1;32m     35\u001b[0m     \u001b[0midx\u001b[0m \u001b[0;34m=\u001b[0m \u001b[0mwb\u001b[0m\u001b[0;34m.\u001b[0m\u001b[0m_active_sheet_index\u001b[0m\u001b[0;34m\u001b[0m\u001b[0;34m\u001b[0m\u001b[0m\n",
            "\u001b[0;31mIndexError\u001b[0m: At least one sheet must be visible"
          ]
        }
      ]
    },
    {
      "cell_type": "code",
      "source": [
        "import pandas as pd\n",
        "\n",
        "# Create a new Excel file with one sheet\n",
        "with pd.ExcelWriter('drive/MyDrive/TA/U850hPa-1959-2022.xlsx') as writer:\n",
        "    wind_850hPa.isel(time=0).to_dataframe().to_excel(writer, sheet_name='Sheet1', index=False)\n",
        "\n",
        "    # Loop over the remaining time steps and append to the same sheet\n",
        "    start_row = 1\n",
        "    for i in range(1, len(wind_850hPa.time)):\n",
        "        num_rows = wind_850hPa.isel(time=i).shape[0]\n",
        "        end_row = start_row + num_rows - 1\n",
        "        wind_850hPa.isel(time=i).to_dataframe().to_excel(writer, sheet_name='Sheet1', startrow=start_row, index=False, header=False)\n",
        "        start_row = end_row + 1"
      ],
      "metadata": {
        "id": "9HTZKUqmCcZH"
      },
      "execution_count": null,
      "outputs": []
    },
    {
      "cell_type": "markdown",
      "source": [
        "### **MSWEP**"
      ],
      "metadata": {
        "id": "dv2THChNgs27"
      }
    },
    {
      "cell_type": "code",
      "source": [
        "!pip install xarray"
      ],
      "metadata": {
        "id": "p9LijytWgwxV"
      },
      "execution_count": null,
      "outputs": []
    },
    {
      "cell_type": "code",
      "source": [
        "# Load the .nc file using xarray\n",
        "import xarray as xr\n",
        "ds = xr.open_dataset('/content/drive/MyDrive/Project Monsun/Data/MSWEP_MON_INA_197902-202011.nc')\n",
        "ds = ds['precipitation']\n",
        "ds"
      ],
      "metadata": {
        "id": "J7aG9_rtjAlz"
      },
      "execution_count": null,
      "outputs": []
    },
    {
      "cell_type": "markdown",
      "source": [
        "# Visualisasi Data Awal"
      ],
      "metadata": {
        "id": "zn9-sMiwf6Er"
      }
    },
    {
      "cell_type": "code",
      "source": [
        "import pandas as pd\n",
        "import numpy as np\n",
        "import matplotlib.pyplot as plt\n",
        "%matplotlib inline"
      ],
      "metadata": {
        "id": "SE3snKfDfWvV"
      },
      "execution_count": null,
      "outputs": []
    },
    {
      "cell_type": "code",
      "source": [
        "df = pd.read_excel('/content/drive/MyDrive/TA/indeksmonsunindofix.xlsx')\n",
        "df[\"date\"] = pd.to_datetime(df[\"date\"])\n",
        "df.head()"
      ],
      "metadata": {
        "id": "Y6DS1vi4fINa",
        "colab": {
          "base_uri": "https://localhost:8080/",
          "height": 206
        },
        "outputId": "be2cffb6-bb10-4f7d-a0e6-598ef164c855"
      },
      "execution_count": null,
      "outputs": [
        {
          "output_type": "execute_result",
          "data": {
            "text/plain": [
              "        date     index\n",
              "0 1959-01-01  0.000000\n",
              "1 1959-02-01 -0.529219\n",
              "2 1959-03-01 -0.733816\n",
              "3 1959-04-01 -0.916348\n",
              "4 1959-05-01 -0.864036"
            ],
            "text/html": [
              "\n",
              "  <div id=\"df-8c34105d-9a36-4925-bd04-aca5a6d6c6f7\">\n",
              "    <div class=\"colab-df-container\">\n",
              "      <div>\n",
              "<style scoped>\n",
              "    .dataframe tbody tr th:only-of-type {\n",
              "        vertical-align: middle;\n",
              "    }\n",
              "\n",
              "    .dataframe tbody tr th {\n",
              "        vertical-align: top;\n",
              "    }\n",
              "\n",
              "    .dataframe thead th {\n",
              "        text-align: right;\n",
              "    }\n",
              "</style>\n",
              "<table border=\"1\" class=\"dataframe\">\n",
              "  <thead>\n",
              "    <tr style=\"text-align: right;\">\n",
              "      <th></th>\n",
              "      <th>date</th>\n",
              "      <th>index</th>\n",
              "    </tr>\n",
              "  </thead>\n",
              "  <tbody>\n",
              "    <tr>\n",
              "      <th>0</th>\n",
              "      <td>1959-01-01</td>\n",
              "      <td>0.000000</td>\n",
              "    </tr>\n",
              "    <tr>\n",
              "      <th>1</th>\n",
              "      <td>1959-02-01</td>\n",
              "      <td>-0.529219</td>\n",
              "    </tr>\n",
              "    <tr>\n",
              "      <th>2</th>\n",
              "      <td>1959-03-01</td>\n",
              "      <td>-0.733816</td>\n",
              "    </tr>\n",
              "    <tr>\n",
              "      <th>3</th>\n",
              "      <td>1959-04-01</td>\n",
              "      <td>-0.916348</td>\n",
              "    </tr>\n",
              "    <tr>\n",
              "      <th>4</th>\n",
              "      <td>1959-05-01</td>\n",
              "      <td>-0.864036</td>\n",
              "    </tr>\n",
              "  </tbody>\n",
              "</table>\n",
              "</div>\n",
              "      <button class=\"colab-df-convert\" onclick=\"convertToInteractive('df-8c34105d-9a36-4925-bd04-aca5a6d6c6f7')\"\n",
              "              title=\"Convert this dataframe to an interactive table.\"\n",
              "              style=\"display:none;\">\n",
              "        \n",
              "  <svg xmlns=\"http://www.w3.org/2000/svg\" height=\"24px\"viewBox=\"0 0 24 24\"\n",
              "       width=\"24px\">\n",
              "    <path d=\"M0 0h24v24H0V0z\" fill=\"none\"/>\n",
              "    <path d=\"M18.56 5.44l.94 2.06.94-2.06 2.06-.94-2.06-.94-.94-2.06-.94 2.06-2.06.94zm-11 1L8.5 8.5l.94-2.06 2.06-.94-2.06-.94L8.5 2.5l-.94 2.06-2.06.94zm10 10l.94 2.06.94-2.06 2.06-.94-2.06-.94-.94-2.06-.94 2.06-2.06.94z\"/><path d=\"M17.41 7.96l-1.37-1.37c-.4-.4-.92-.59-1.43-.59-.52 0-1.04.2-1.43.59L10.3 9.45l-7.72 7.72c-.78.78-.78 2.05 0 2.83L4 21.41c.39.39.9.59 1.41.59.51 0 1.02-.2 1.41-.59l7.78-7.78 2.81-2.81c.8-.78.8-2.07 0-2.86zM5.41 20L4 18.59l7.72-7.72 1.47 1.35L5.41 20z\"/>\n",
              "  </svg>\n",
              "      </button>\n",
              "      \n",
              "  <style>\n",
              "    .colab-df-container {\n",
              "      display:flex;\n",
              "      flex-wrap:wrap;\n",
              "      gap: 12px;\n",
              "    }\n",
              "\n",
              "    .colab-df-convert {\n",
              "      background-color: #E8F0FE;\n",
              "      border: none;\n",
              "      border-radius: 50%;\n",
              "      cursor: pointer;\n",
              "      display: none;\n",
              "      fill: #1967D2;\n",
              "      height: 32px;\n",
              "      padding: 0 0 0 0;\n",
              "      width: 32px;\n",
              "    }\n",
              "\n",
              "    .colab-df-convert:hover {\n",
              "      background-color: #E2EBFA;\n",
              "      box-shadow: 0px 1px 2px rgba(60, 64, 67, 0.3), 0px 1px 3px 1px rgba(60, 64, 67, 0.15);\n",
              "      fill: #174EA6;\n",
              "    }\n",
              "\n",
              "    [theme=dark] .colab-df-convert {\n",
              "      background-color: #3B4455;\n",
              "      fill: #D2E3FC;\n",
              "    }\n",
              "\n",
              "    [theme=dark] .colab-df-convert:hover {\n",
              "      background-color: #434B5C;\n",
              "      box-shadow: 0px 1px 3px 1px rgba(0, 0, 0, 0.15);\n",
              "      filter: drop-shadow(0px 1px 2px rgba(0, 0, 0, 0.3));\n",
              "      fill: #FFFFFF;\n",
              "    }\n",
              "  </style>\n",
              "\n",
              "      <script>\n",
              "        const buttonEl =\n",
              "          document.querySelector('#df-8c34105d-9a36-4925-bd04-aca5a6d6c6f7 button.colab-df-convert');\n",
              "        buttonEl.style.display =\n",
              "          google.colab.kernel.accessAllowed ? 'block' : 'none';\n",
              "\n",
              "        async function convertToInteractive(key) {\n",
              "          const element = document.querySelector('#df-8c34105d-9a36-4925-bd04-aca5a6d6c6f7');\n",
              "          const dataTable =\n",
              "            await google.colab.kernel.invokeFunction('convertToInteractive',\n",
              "                                                     [key], {});\n",
              "          if (!dataTable) return;\n",
              "\n",
              "          const docLinkHtml = 'Like what you see? Visit the ' +\n",
              "            '<a target=\"_blank\" href=https://colab.research.google.com/notebooks/data_table.ipynb>data table notebook</a>'\n",
              "            + ' to learn more about interactive tables.';\n",
              "          element.innerHTML = '';\n",
              "          dataTable['output_type'] = 'display_data';\n",
              "          await google.colab.output.renderOutput(dataTable, element);\n",
              "          const docLink = document.createElement('div');\n",
              "          docLink.innerHTML = docLinkHtml;\n",
              "          element.appendChild(docLink);\n",
              "        }\n",
              "      </script>\n",
              "    </div>\n",
              "  </div>\n",
              "  "
            ]
          },
          "metadata": {},
          "execution_count": 6
        }
      ]
    },
    {
      "cell_type": "code",
      "source": [
        "import seaborn as sns\n",
        "sns.set()\n",
        "from numpy import matlib\n",
        "fig, ax = plt.subplots(figsize=(18,5))\n",
        "ax.plot(df['date'],df['index'],linewidth=2)\n",
        "ax.set_xlabel('Year', fontsize=20)\n",
        "ax.set_ylabel('Index', fontsize=20)\n",
        "ax.grid(color='b',alpha=0.3,linestyle='dashed', linewidth=1)\n",
        "plt.title('Indeks Monsun Indonesia', fontsize=22, loc='center',pad=12)\n",
        "ax.plot(df['date'],np.squeeze((matlib.repmat((df['index'].mean()),1,df['date'].size))))\n",
        "\n",
        "plt.show()"
      ],
      "metadata": {
        "id": "7IK4bFJIo3Vu",
        "colab": {
          "base_uri": "https://localhost:8080/",
          "height": 523
        },
        "outputId": "b320584e-c3af-4380-e858-9d8c36311c0a"
      },
      "execution_count": null,
      "outputs": [
        {
          "output_type": "display_data",
          "data": {
            "text/plain": [
              "<Figure size 1800x500 with 1 Axes>"
            ],
            "image/png": "[encoded data removed]"
          },
          "metadata": {}
        }
      ]
    },
    {
      "cell_type": "markdown",
      "source": [
        "# Wavelet"
      ],
      "metadata": {
        "id": "z1zdR0sqhCZQ"
      }
    },
    {
      "cell_type": "code",
      "source": [
        "import sys\n",
        "sys.path.append('/content/drive/My Drive/')\n",
        "from waveletFunctions import *"
      ],
      "metadata": {
        "id": "zkdjP4Dwu1Ex"
      },
      "execution_count": null,
      "outputs": []
    },
    {
      "cell_type": "code",
      "source": [
        "import pandas as pd\n",
        "\n",
        "# Load the time series data into a pandas dataframe\n",
        "data = pd.read_excel('/content/drive/MyDrive/TA/indeksmonsunindofix.xlsx')\n",
        "sst = data[\"index\"]\n",
        "sst"
      ],
      "metadata": {
        "id": "i31plzkL3EaU",
        "colab": {
          "base_uri": "https://localhost:8080/"
        },
        "outputId": "0bb7cf17-d711-41fc-a543-598255e5cc76"
      },
      "execution_count": null,
      "outputs": [
        {
          "output_type": "execute_result",
          "data": {
            "text/plain": [
              "0      0.000000\n",
              "1     -0.529219\n",
              "2     -0.733816\n",
              "3     -0.916348\n",
              "4     -0.864036\n",
              "         ...   \n",
              "765   -0.221121\n",
              "766   -0.273773\n",
              "767   -0.316953\n",
              "768   -0.529015\n",
              "769   -0.590853\n",
              "Name: index, Length: 770, dtype: float64"
            ]
          },
          "metadata": {},
          "execution_count": 12
        }
      ]
    },
    {
      "cell_type": "code",
      "metadata": {
        "colab": {
          "base_uri": "https://localhost:8080/"
        },
        "outputId": "8e5e3ba0-221c-4db7-bcbc-7a9d5e28168a",
        "id": "Fpq6vu75orEv"
      },
      "source": [
        "#Input time series data dan normalisasi data\n",
        "#sst = np.loadtxt('Data/sst_nino3.dat')\n",
        "variance = np.std(sst)\n",
        "sst = (sst-np.mean(sst))/np.std(sst)\n",
        "print(len(sst))"
      ],
      "execution_count": null,
      "outputs": [
        {
          "output_type": "stream",
          "name": "stdout",
          "text": [
            "770\n"
          ]
        }
      ]
    },
    {
      "cell_type": "code",
      "metadata": {
        "id": "hVxcQ84borEw"
      },
      "source": [
        "#Buat array berisi waktu\n",
        "n=len(sst)\n",
        "dt=1\n",
        "time = np.arange(len(sst))*dt/12 + 1959.0"
      ],
      "execution_count": null,
      "outputs": []
    },
    {
      "cell_type": "markdown",
      "metadata": {
        "id": "68PDnsQHorEx"
      },
      "source": [
        "a. Pengaturan Parameter Wavelet"
      ]
    },
    {
      "cell_type": "code",
      "metadata": {
        "id": "SkJ08FkrorEx"
      },
      "source": [
        "data = sst #Data\n",
        "dj = 0.25 #Increment scale\n",
        "pad = 0 #Time series diset nilai 0 (Default)\n",
        "s0 = 2.*dt #Scale dimulai 6 bulanan (Default) | s0 merupakan scale terkecil dari Wavelet\n",
        "j1 = 7./dj #Jumlah scale - 1 | Rentang  scale dari s0 sampai s0*2**(j1*dj) dengan jumlah scale sebanyak (j1+1)\n",
        "mother = 'MORLET' #Shape Wavelet ada: Morlet, Difference of Gaussian (DOG), Paul)\n",
        "lag1 = 0.72 #Lag-1 autocorrelation digunakan untuk level signifikansi"
      ],
      "execution_count": null,
      "outputs": []
    },
    {
      "cell_type": "markdown",
      "metadata": {
        "id": "QzXSeeG5orEx"
      },
      "source": [
        "b. Transformasi Wavelet"
      ]
    },
    {
      "cell_type": "code",
      "metadata": {
        "id": "LhJ1BxHKorEx"
      },
      "source": [
        "wave, period, scale, coi = wavelet(data, dt=dt, pad=pad, dj=dj, s0=s0, J1=j1, mother=mother) # fungsi wavelet\n",
        "power = (np.abs(wave))**2 # hitung wavelet power spectrum\n",
        "global_ws = (np.sum(power, axis=1))/n # time-average over all scale (global_ws)"
      ],
      "execution_count": null,
      "outputs": []
    },
    {
      "cell_type": "markdown",
      "metadata": {
        "id": "1v0EnLbOorEx"
      },
      "source": [
        "c. Pengaturan Selang Kepercayaan"
      ]
    },
    {
      "cell_type": "code",
      "metadata": {
        "id": "r7BNimo-orEy"
      },
      "source": [
        "signif = wave_signif(variance,dt=dt,scale=scale,sigtest=0,lag1=lag1,mother=mother)# fungsi signifikansi\n",
        "sig95 = signif[:, np.newaxis].dot(np.ones(n)[np.newaxis,:])# buat signif --> (J+1)x(N) array\n",
        "sig95 = power/sig95 # ketika ratio power dan signif > 1, power signifikan"
      ],
      "execution_count": null,
      "outputs": []
    },
    {
      "cell_type": "markdown",
      "metadata": {
        "id": "X_mgWYD5orEy"
      },
      "source": [
        "d. Spektrum Global Wavelet & Selang Kepercayaan"
      ]
    },
    {
      "cell_type": "code",
      "metadata": {
        "id": "OotV-ktZorEy"
      },
      "source": [
        "dof = n-scale# the scale corrects for padding at edges\n",
        "global_signif = wave_signif(variance,dt=dt,scale=scale,sigtest=1,lag1=lag1,dof=dof, mother=mother) # fungsi signifikansi untuk global_ws"
      ],
      "execution_count": null,
      "outputs": []
    },
    {
      "cell_type": "markdown",
      "metadata": {
        "id": "Yxy0KtauorEy"
      },
      "source": [
        "e. *Scale-average* pada rentang periode 2 dan 8"
      ]
    },
    {
      "cell_type": "code",
      "metadata": {
        "id": "oor2JrovorEy"
      },
      "source": [
        "avg = np.logical_and(scale>=2,scale<8) # Logika untuk mengambil rentang skala 2 - 8\n",
        "Cdelta= 0.776 # Cdelta untuk MORLET wavelet\n",
        "scale_avg = scale[:, np.newaxis].dot(np.ones(n)[np.newaxis,:]) # buat scale --> (J+1)x(N) array\n",
        "scale_avg = power/scale_avg # [Eqn(24)] di referensi\n",
        "scale_avg = dj*dt/Cdelta*sum(scale_avg[avg, :]) # [Eqn(24)] di referensi\n",
        "scale_signif = wave_signif(variance,dt=dt,scale=scale,sigtest=2,dof=[2,7],lag1=lag1,mother=mother) # fungsi signifikansi untuk scale average"
      ],
      "execution_count": null,
      "outputs": []
    },
    {
      "cell_type": "markdown",
      "metadata": {
        "id": "AebX0a3ForEy"
      },
      "source": [
        "f. Wavelet Power Spectrum"
      ]
    },
    {
      "cell_type": "code",
      "source": [
        "plt.figure(figsize=(10,5))\n",
        "\n",
        "#Plot contourf power, contour signifikansi, dan coi\n",
        "levels = [0, 0.5, 1, 2, 4, 999]\n",
        "cs = plt.contourf(time, period, power, levels=levels, colors=['white', 'bisque', 'orange', 'orangered', 'darkred'])\n",
        "plt.contour(time, period, sig95,[-99,1], colors='k')\n",
        "plt.plot(time,coi)\n",
        "coi_area=np.concatenate([[np.max(scale)],coi,[np.max(scale)],[np.max(scale)]])\n",
        "ts_area=np.concatenate([[time[0]], time, [time[-1]], [time[0]]])\n",
        "plt.fill(ts_area, coi_area, 'blue', alpha=0.3, hatch='x')\n",
        "\n",
        "plt.xlabel('Time (year)')\n",
        "plt.ylabel('Period (years)')\n",
        "plt.title('Wavelet Power Spectrum Morlet (contours at 0.5,1,2,4\\u00B0C$^2$)')\n",
        "plt.xlim(xlim[:])\n",
        "plt.ylim([np.min(period), np.max(period)])\n",
        "plt.yscale('log', base=2, subs=None)\n",
        "plt.gca().invert_yaxis()\n",
        "plt.gca().yaxis.set_major_formatter(ScalarFormatter())\n",
        "\n",
        "#Plot colorbar\n",
        "plt.colorbar(cs)"
      ],
      "metadata": {
        "id": "WptEuYMoorEy",
        "colab": {
          "base_uri": "https://localhost:8080/",
          "height": 718
        },
        "outputId": "47affb37-2d93-4eec-9f9e-0ac6a33ea59c"
      },
      "execution_count": null,
      "outputs": [
        {
          "output_type": "error",
          "ename": "NameError",
          "evalue": "ignored",
          "traceback": [
            "\u001b[0;31m---------------------------------------------------------------------------\u001b[0m",
            "\u001b[0;31mNameError\u001b[0m                                 Traceback (most recent call last)",
            "\u001b[0;32m<ipython-input-28-6366af3c7227>\u001b[0m in \u001b[0;36m<cell line: 15>\u001b[0;34m()\u001b[0m\n\u001b[1;32m     13\u001b[0m \u001b[0mplt\u001b[0m\u001b[0;34m.\u001b[0m\u001b[0mylabel\u001b[0m\u001b[0;34m(\u001b[0m\u001b[0;34m'Period (years)'\u001b[0m\u001b[0;34m)\u001b[0m\u001b[0;34m\u001b[0m\u001b[0;34m\u001b[0m\u001b[0m\n\u001b[1;32m     14\u001b[0m \u001b[0mplt\u001b[0m\u001b[0;34m.\u001b[0m\u001b[0mtitle\u001b[0m\u001b[0;34m(\u001b[0m\u001b[0;34m'Wavelet Power Spectrum Morlet (contours at 0.5,1,2,4\\u00B0C$^2$)'\u001b[0m\u001b[0;34m)\u001b[0m\u001b[0;34m\u001b[0m\u001b[0;34m\u001b[0m\u001b[0m\n\u001b[0;32m---> 15\u001b[0;31m \u001b[0mplt\u001b[0m\u001b[0;34m.\u001b[0m\u001b[0mxlim\u001b[0m\u001b[0;34m(\u001b[0m\u001b[0mxlim\u001b[0m\u001b[0;34m[\u001b[0m\u001b[0;34m:\u001b[0m\u001b[0;34m]\u001b[0m\u001b[0;34m)\u001b[0m\u001b[0;34m\u001b[0m\u001b[0;34m\u001b[0m\u001b[0m\n\u001b[0m\u001b[1;32m     16\u001b[0m \u001b[0mplt\u001b[0m\u001b[0;34m.\u001b[0m\u001b[0mylim\u001b[0m\u001b[0;34m(\u001b[0m\u001b[0;34m[\u001b[0m\u001b[0mnp\u001b[0m\u001b[0;34m.\u001b[0m\u001b[0mmin\u001b[0m\u001b[0;34m(\u001b[0m\u001b[0mperiod\u001b[0m\u001b[0;34m)\u001b[0m\u001b[0;34m,\u001b[0m \u001b[0mnp\u001b[0m\u001b[0;34m.\u001b[0m\u001b[0mmax\u001b[0m\u001b[0;34m(\u001b[0m\u001b[0mperiod\u001b[0m\u001b[0;34m)\u001b[0m\u001b[0;34m]\u001b[0m\u001b[0;34m)\u001b[0m\u001b[0;34m\u001b[0m\u001b[0;34m\u001b[0m\u001b[0m\n\u001b[1;32m     17\u001b[0m \u001b[0mplt\u001b[0m\u001b[0;34m.\u001b[0m\u001b[0myscale\u001b[0m\u001b[0;34m(\u001b[0m\u001b[0;34m'log'\u001b[0m\u001b[0;34m,\u001b[0m \u001b[0mbase\u001b[0m\u001b[0;34m=\u001b[0m\u001b[0;36m2\u001b[0m\u001b[0;34m,\u001b[0m \u001b[0msubs\u001b[0m\u001b[0;34m=\u001b[0m\u001b[0;32mNone\u001b[0m\u001b[0;34m)\u001b[0m\u001b[0;34m\u001b[0m\u001b[0;34m\u001b[0m\u001b[0m\n",
            "\u001b[0;31mNameError\u001b[0m: name 'xlim' is not defined"
          ]
        },
        {
          "output_type": "display_data",
          "data": {
            "text/plain": [
              "<Figure size 1000x500 with 1 Axes>"
            ],
            "image/png": "[encoded data removed]"
          },
          "metadata": {}
        }
      ]
    },
    {
      "cell_type": "code",
      "source": [
        "plt.figure(figsize=(3,8))\n",
        "\n",
        "#Plot global wavelet spectrum dan signifikansinya\n",
        "plt.plot(global_ws, period)\n",
        "plt.plot(global_signif, period, '--')\n",
        "\n",
        "plt.xlabel('Power (\\u00B0C$^2$)')\n",
        "plt.title('Global Wavelet Spectrum')\n",
        "plt.xlim([0, 1.25 * np.max(global_ws)])\n",
        "plt.ylim([np.min(period), np.max(period)])\n",
        "plt.yscale('log', basey=2, subsy=None)\n",
        "plt.gca().invert_yaxis()\n",
        "plt.gca().yaxis.set_major_formatter(ScalarFormatter())\n",
        "plt.ticklabel_format(axis='y', style='plain')"
      ],
      "metadata": {
        "id": "4aoYnsF6orEz",
        "colab": {
          "base_uri": "https://localhost:8080/",
          "height": 1000
        },
        "outputId": "a3825bb8-08ff-4575-d42e-001c748c2e07"
      },
      "execution_count": null,
      "outputs": [
        {
          "output_type": "error",
          "ename": "TypeError",
          "evalue": "ignored",
          "traceback": [
            "\u001b[0;31m---------------------------------------------------------------------------\u001b[0m",
            "\u001b[0;31mTypeError\u001b[0m                                 Traceback (most recent call last)",
            "\u001b[0;32m<ipython-input-24-1e25f0004300>\u001b[0m in \u001b[0;36m<cell line: 11>\u001b[0;34m()\u001b[0m\n\u001b[1;32m      9\u001b[0m \u001b[0mplt\u001b[0m\u001b[0;34m.\u001b[0m\u001b[0mxlim\u001b[0m\u001b[0;34m(\u001b[0m\u001b[0;34m[\u001b[0m\u001b[0;36m0\u001b[0m\u001b[0;34m,\u001b[0m \u001b[0;36m1.25\u001b[0m \u001b[0;34m*\u001b[0m \u001b[0mnp\u001b[0m\u001b[0;34m.\u001b[0m\u001b[0mmax\u001b[0m\u001b[0;34m(\u001b[0m\u001b[0mglobal_ws\u001b[0m\u001b[0;34m)\u001b[0m\u001b[0;34m]\u001b[0m\u001b[0;34m)\u001b[0m\u001b[0;34m\u001b[0m\u001b[0;34m\u001b[0m\u001b[0m\n\u001b[1;32m     10\u001b[0m \u001b[0mplt\u001b[0m\u001b[0;34m.\u001b[0m\u001b[0mylim\u001b[0m\u001b[0;34m(\u001b[0m\u001b[0;34m[\u001b[0m\u001b[0mnp\u001b[0m\u001b[0;34m.\u001b[0m\u001b[0mmin\u001b[0m\u001b[0;34m(\u001b[0m\u001b[0mperiod\u001b[0m\u001b[0;34m)\u001b[0m\u001b[0;34m,\u001b[0m \u001b[0mnp\u001b[0m\u001b[0;34m.\u001b[0m\u001b[0mmax\u001b[0m\u001b[0;34m(\u001b[0m\u001b[0mperiod\u001b[0m\u001b[0;34m)\u001b[0m\u001b[0;34m]\u001b[0m\u001b[0;34m)\u001b[0m\u001b[0;34m\u001b[0m\u001b[0;34m\u001b[0m\u001b[0m\n\u001b[0;32m---> 11\u001b[0;31m \u001b[0mplt\u001b[0m\u001b[0;34m.\u001b[0m\u001b[0myscale\u001b[0m\u001b[0;34m(\u001b[0m\u001b[0;34m'log'\u001b[0m\u001b[0;34m,\u001b[0m \u001b[0mbasey\u001b[0m\u001b[0;34m=\u001b[0m\u001b[0;36m2\u001b[0m\u001b[0;34m,\u001b[0m \u001b[0msubsy\u001b[0m\u001b[0;34m=\u001b[0m\u001b[0;32mNone\u001b[0m\u001b[0;34m)\u001b[0m\u001b[0;34m\u001b[0m\u001b[0;34m\u001b[0m\u001b[0m\n\u001b[0m\u001b[1;32m     12\u001b[0m \u001b[0mplt\u001b[0m\u001b[0;34m.\u001b[0m\u001b[0mgca\u001b[0m\u001b[0;34m(\u001b[0m\u001b[0;34m)\u001b[0m\u001b[0;34m.\u001b[0m\u001b[0minvert_yaxis\u001b[0m\u001b[0;34m(\u001b[0m\u001b[0;34m)\u001b[0m\u001b[0;34m\u001b[0m\u001b[0;34m\u001b[0m\u001b[0m\n\u001b[1;32m     13\u001b[0m \u001b[0mplt\u001b[0m\u001b[0;34m.\u001b[0m\u001b[0mgca\u001b[0m\u001b[0;34m(\u001b[0m\u001b[0;34m)\u001b[0m\u001b[0;34m.\u001b[0m\u001b[0myaxis\u001b[0m\u001b[0;34m.\u001b[0m\u001b[0mset_major_formatter\u001b[0m\u001b[0;34m(\u001b[0m\u001b[0mScalarFormatter\u001b[0m\u001b[0;34m(\u001b[0m\u001b[0;34m)\u001b[0m\u001b[0;34m)\u001b[0m\u001b[0;34m\u001b[0m\u001b[0;34m\u001b[0m\u001b[0m\n",
            "\u001b[0;32m/usr/local/lib/python3.10/dist-packages/matplotlib/pyplot.py\u001b[0m in \u001b[0;36myscale\u001b[0;34m(value, **kwargs)\u001b[0m\n\u001b[1;32m   3111\u001b[0m \u001b[0;34m@\u001b[0m\u001b[0m_copy_docstring_and_deprecators\u001b[0m\u001b[0;34m(\u001b[0m\u001b[0mAxes\u001b[0m\u001b[0;34m.\u001b[0m\u001b[0mset_yscale\u001b[0m\u001b[0;34m)\u001b[0m\u001b[0;34m\u001b[0m\u001b[0;34m\u001b[0m\u001b[0m\n\u001b[1;32m   3112\u001b[0m \u001b[0;32mdef\u001b[0m \u001b[0myscale\u001b[0m\u001b[0;34m(\u001b[0m\u001b[0mvalue\u001b[0m\u001b[0;34m,\u001b[0m \u001b[0;34m**\u001b[0m\u001b[0mkwargs\u001b[0m\u001b[0;34m)\u001b[0m\u001b[0;34m:\u001b[0m\u001b[0;34m\u001b[0m\u001b[0;34m\u001b[0m\u001b[0m\n\u001b[0;32m-> 3113\u001b[0;31m     \u001b[0;32mreturn\u001b[0m \u001b[0mgca\u001b[0m\u001b[0;34m(\u001b[0m\u001b[0;34m)\u001b[0m\u001b[0;34m.\u001b[0m\u001b[0mset_yscale\u001b[0m\u001b[0;34m(\u001b[0m\u001b[0mvalue\u001b[0m\u001b[0;34m,\u001b[0m \u001b[0;34m**\u001b[0m\u001b[0mkwargs\u001b[0m\u001b[0;34m)\u001b[0m\u001b[0;34m\u001b[0m\u001b[0;34m\u001b[0m\u001b[0m\n\u001b[0m\u001b[1;32m   3114\u001b[0m \u001b[0;34m\u001b[0m\u001b[0m\n\u001b[1;32m   3115\u001b[0m \u001b[0;34m\u001b[0m\u001b[0m\n",
            "\u001b[0;32m/usr/local/lib/python3.10/dist-packages/matplotlib/axes/_base.py\u001b[0m in \u001b[0;36mwrapper\u001b[0;34m(self, *args, **kwargs)\u001b[0m\n\u001b[1;32m     72\u001b[0m \u001b[0;34m\u001b[0m\u001b[0m\n\u001b[1;32m     73\u001b[0m         \u001b[0;32mdef\u001b[0m \u001b[0mwrapper\u001b[0m\u001b[0;34m(\u001b[0m\u001b[0mself\u001b[0m\u001b[0;34m,\u001b[0m \u001b[0;34m*\u001b[0m\u001b[0margs\u001b[0m\u001b[0;34m,\u001b[0m \u001b[0;34m**\u001b[0m\u001b[0mkwargs\u001b[0m\u001b[0;34m)\u001b[0m\u001b[0;34m:\u001b[0m\u001b[0;34m\u001b[0m\u001b[0;34m\u001b[0m\u001b[0m\n\u001b[0;32m---> 74\u001b[0;31m             \u001b[0;32mreturn\u001b[0m \u001b[0mget_method\u001b[0m\u001b[0;34m(\u001b[0m\u001b[0mself\u001b[0m\u001b[0;34m)\u001b[0m\u001b[0;34m(\u001b[0m\u001b[0;34m*\u001b[0m\u001b[0margs\u001b[0m\u001b[0;34m,\u001b[0m \u001b[0;34m**\u001b[0m\u001b[0mkwargs\u001b[0m\u001b[0;34m)\u001b[0m\u001b[0;34m\u001b[0m\u001b[0;34m\u001b[0m\u001b[0m\n\u001b[0m\u001b[1;32m     75\u001b[0m \u001b[0;34m\u001b[0m\u001b[0m\n\u001b[1;32m     76\u001b[0m         \u001b[0mwrapper\u001b[0m\u001b[0;34m.\u001b[0m\u001b[0m__module__\u001b[0m \u001b[0;34m=\u001b[0m \u001b[0mowner\u001b[0m\u001b[0;34m.\u001b[0m\u001b[0m__module__\u001b[0m\u001b[0;34m\u001b[0m\u001b[0;34m\u001b[0m\u001b[0m\n",
            "\u001b[0;32m/usr/local/lib/python3.10/dist-packages/matplotlib/axis.py\u001b[0m in \u001b[0;36m_set_axes_scale\u001b[0;34m(self, value, **kwargs)\u001b[0m\n\u001b[1;32m    808\u001b[0m         \u001b[0mg\u001b[0m \u001b[0;34m=\u001b[0m \u001b[0mself\u001b[0m\u001b[0;34m.\u001b[0m\u001b[0maxes\u001b[0m\u001b[0;34m.\u001b[0m\u001b[0m_shared_axes\u001b[0m\u001b[0;34m[\u001b[0m\u001b[0mname\u001b[0m\u001b[0;34m]\u001b[0m\u001b[0;34m\u001b[0m\u001b[0;34m\u001b[0m\u001b[0m\n\u001b[1;32m    809\u001b[0m         \u001b[0;32mfor\u001b[0m \u001b[0max\u001b[0m \u001b[0;32min\u001b[0m \u001b[0mg\u001b[0m\u001b[0;34m.\u001b[0m\u001b[0mget_siblings\u001b[0m\u001b[0;34m(\u001b[0m\u001b[0mself\u001b[0m\u001b[0;34m.\u001b[0m\u001b[0maxes\u001b[0m\u001b[0;34m)\u001b[0m\u001b[0;34m:\u001b[0m\u001b[0;34m\u001b[0m\u001b[0;34m\u001b[0m\u001b[0m\n\u001b[0;32m--> 810\u001b[0;31m             \u001b[0max\u001b[0m\u001b[0;34m.\u001b[0m\u001b[0m_axis_map\u001b[0m\u001b[0;34m[\u001b[0m\u001b[0mname\u001b[0m\u001b[0;34m]\u001b[0m\u001b[0;34m.\u001b[0m\u001b[0m_set_scale\u001b[0m\u001b[0;34m(\u001b[0m\u001b[0mvalue\u001b[0m\u001b[0;34m,\u001b[0m \u001b[0;34m**\u001b[0m\u001b[0mkwargs\u001b[0m\u001b[0;34m)\u001b[0m\u001b[0;34m\u001b[0m\u001b[0;34m\u001b[0m\u001b[0m\n\u001b[0m\u001b[1;32m    811\u001b[0m             \u001b[0max\u001b[0m\u001b[0;34m.\u001b[0m\u001b[0m_update_transScale\u001b[0m\u001b[0;34m(\u001b[0m\u001b[0;34m)\u001b[0m\u001b[0;34m\u001b[0m\u001b[0;34m\u001b[0m\u001b[0m\n\u001b[1;32m    812\u001b[0m             \u001b[0max\u001b[0m\u001b[0;34m.\u001b[0m\u001b[0mstale\u001b[0m \u001b[0;34m=\u001b[0m \u001b[0;32mTrue\u001b[0m\u001b[0;34m\u001b[0m\u001b[0;34m\u001b[0m\u001b[0m\n",
            "\u001b[0;32m/usr/local/lib/python3.10/dist-packages/matplotlib/axis.py\u001b[0m in \u001b[0;36m_set_scale\u001b[0;34m(self, value, **kwargs)\u001b[0m\n\u001b[1;32m    765\u001b[0m     \u001b[0;32mdef\u001b[0m \u001b[0m_set_scale\u001b[0m\u001b[0;34m(\u001b[0m\u001b[0mself\u001b[0m\u001b[0;34m,\u001b[0m \u001b[0mvalue\u001b[0m\u001b[0;34m,\u001b[0m \u001b[0;34m**\u001b[0m\u001b[0mkwargs\u001b[0m\u001b[0;34m)\u001b[0m\u001b[0;34m:\u001b[0m\u001b[0;34m\u001b[0m\u001b[0;34m\u001b[0m\u001b[0m\n\u001b[1;32m    766\u001b[0m         \u001b[0;32mif\u001b[0m \u001b[0;32mnot\u001b[0m \u001b[0misinstance\u001b[0m\u001b[0;34m(\u001b[0m\u001b[0mvalue\u001b[0m\u001b[0;34m,\u001b[0m \u001b[0mmscale\u001b[0m\u001b[0;34m.\u001b[0m\u001b[0mScaleBase\u001b[0m\u001b[0;34m)\u001b[0m\u001b[0;34m:\u001b[0m\u001b[0;34m\u001b[0m\u001b[0;34m\u001b[0m\u001b[0m\n\u001b[0;32m--> 767\u001b[0;31m             \u001b[0mself\u001b[0m\u001b[0;34m.\u001b[0m\u001b[0m_scale\u001b[0m \u001b[0;34m=\u001b[0m \u001b[0mmscale\u001b[0m\u001b[0;34m.\u001b[0m\u001b[0mscale_factory\u001b[0m\u001b[0;34m(\u001b[0m\u001b[0mvalue\u001b[0m\u001b[0;34m,\u001b[0m \u001b[0mself\u001b[0m\u001b[0;34m,\u001b[0m \u001b[0;34m**\u001b[0m\u001b[0mkwargs\u001b[0m\u001b[0;34m)\u001b[0m\u001b[0;34m\u001b[0m\u001b[0;34m\u001b[0m\u001b[0m\n\u001b[0m\u001b[1;32m    768\u001b[0m         \u001b[0;32melse\u001b[0m\u001b[0;34m:\u001b[0m\u001b[0;34m\u001b[0m\u001b[0;34m\u001b[0m\u001b[0m\n\u001b[1;32m    769\u001b[0m             \u001b[0mself\u001b[0m\u001b[0;34m.\u001b[0m\u001b[0m_scale\u001b[0m \u001b[0;34m=\u001b[0m \u001b[0mvalue\u001b[0m\u001b[0;34m\u001b[0m\u001b[0;34m\u001b[0m\u001b[0m\n",
            "\u001b[0;32m/usr/local/lib/python3.10/dist-packages/matplotlib/scale.py\u001b[0m in \u001b[0;36mscale_factory\u001b[0;34m(scale, axis, **kwargs)\u001b[0m\n\u001b[1;32m    712\u001b[0m     \"\"\"\n\u001b[1;32m    713\u001b[0m     \u001b[0mscale_cls\u001b[0m \u001b[0;34m=\u001b[0m \u001b[0m_api\u001b[0m\u001b[0;34m.\u001b[0m\u001b[0mcheck_getitem\u001b[0m\u001b[0;34m(\u001b[0m\u001b[0m_scale_mapping\u001b[0m\u001b[0;34m,\u001b[0m \u001b[0mscale\u001b[0m\u001b[0;34m=\u001b[0m\u001b[0mscale\u001b[0m\u001b[0;34m)\u001b[0m\u001b[0;34m\u001b[0m\u001b[0;34m\u001b[0m\u001b[0m\n\u001b[0;32m--> 714\u001b[0;31m     \u001b[0;32mreturn\u001b[0m \u001b[0mscale_cls\u001b[0m\u001b[0;34m(\u001b[0m\u001b[0maxis\u001b[0m\u001b[0;34m,\u001b[0m \u001b[0;34m**\u001b[0m\u001b[0mkwargs\u001b[0m\u001b[0;34m)\u001b[0m\u001b[0;34m\u001b[0m\u001b[0;34m\u001b[0m\u001b[0m\n\u001b[0m\u001b[1;32m    715\u001b[0m \u001b[0;34m\u001b[0m\u001b[0m\n\u001b[1;32m    716\u001b[0m \u001b[0;34m\u001b[0m\u001b[0m\n",
            "\u001b[0;31mTypeError\u001b[0m: LogScale.__init__() got an unexpected keyword argument 'basey'"
          ]
        },
        {
          "output_type": "display_data",
          "data": {
            "text/plain": [
              "<Figure size 300x800 with 1 Axes>"
            ],
            "image/png": "[encoded data removed]"
          },
          "metadata": {}
        }
      ]
    },
    {
      "cell_type": "code",
      "source": [
        "#Plot time series 2-8 yr scale-average dan signifikansinya\n",
        "plt.plot(time, scale_avg, 'k')\n",
        "plt.plot(xlim,scale_signif+[0,0], '--')\n",
        "plt.xlim(xlim[:])\n",
        "\n",
        "plt.xlabel('Time (year)')\n",
        "plt.ylabel('Avg variance (\\u00B0C$^2$)')\n",
        "plt.title('2-8 yr Scale-average Time Series')\n",
        "plt.show()"
      ],
      "metadata": {
        "id": "IT4VLPPjorEz",
        "colab": {
          "base_uri": "https://localhost:8080/",
          "height": 652
        },
        "outputId": "c4f15da4-3e3b-4a21-f353-7fb739a6285d"
      },
      "execution_count": null,
      "outputs": [
        {
          "output_type": "error",
          "ename": "NameError",
          "evalue": "ignored",
          "traceback": [
            "\u001b[0;31m---------------------------------------------------------------------------\u001b[0m",
            "\u001b[0;31mNameError\u001b[0m                                 Traceback (most recent call last)",
            "\u001b[0;32m<ipython-input-25-e6e1ee54efb9>\u001b[0m in \u001b[0;36m<cell line: 3>\u001b[0;34m()\u001b[0m\n\u001b[1;32m      1\u001b[0m \u001b[0;31m#Plot time series 2-8 yr scale-average dan signifikansinya\u001b[0m\u001b[0;34m\u001b[0m\u001b[0;34m\u001b[0m\u001b[0m\n\u001b[1;32m      2\u001b[0m \u001b[0mplt\u001b[0m\u001b[0;34m.\u001b[0m\u001b[0mplot\u001b[0m\u001b[0;34m(\u001b[0m\u001b[0mtime\u001b[0m\u001b[0;34m,\u001b[0m \u001b[0mscale_avg\u001b[0m\u001b[0;34m,\u001b[0m \u001b[0;34m'k'\u001b[0m\u001b[0;34m)\u001b[0m\u001b[0;34m\u001b[0m\u001b[0;34m\u001b[0m\u001b[0m\n\u001b[0;32m----> 3\u001b[0;31m \u001b[0mplt\u001b[0m\u001b[0;34m.\u001b[0m\u001b[0mplot\u001b[0m\u001b[0;34m(\u001b[0m\u001b[0mxlim\u001b[0m\u001b[0;34m,\u001b[0m\u001b[0mscale_signif\u001b[0m\u001b[0;34m+\u001b[0m\u001b[0;34m[\u001b[0m\u001b[0;36m0\u001b[0m\u001b[0;34m,\u001b[0m\u001b[0;36m0\u001b[0m\u001b[0;34m]\u001b[0m\u001b[0;34m,\u001b[0m \u001b[0;34m'--'\u001b[0m\u001b[0;34m)\u001b[0m\u001b[0;34m\u001b[0m\u001b[0;34m\u001b[0m\u001b[0m\n\u001b[0m\u001b[1;32m      4\u001b[0m \u001b[0mplt\u001b[0m\u001b[0;34m.\u001b[0m\u001b[0mxlim\u001b[0m\u001b[0;34m(\u001b[0m\u001b[0mxlim\u001b[0m\u001b[0;34m[\u001b[0m\u001b[0;34m:\u001b[0m\u001b[0;34m]\u001b[0m\u001b[0;34m)\u001b[0m\u001b[0;34m\u001b[0m\u001b[0;34m\u001b[0m\u001b[0m\n\u001b[1;32m      5\u001b[0m \u001b[0;34m\u001b[0m\u001b[0m\n",
            "\u001b[0;31mNameError\u001b[0m: name 'xlim' is not defined"
          ]
        },
        {
          "output_type": "display_data",
          "data": {
            "text/plain": [
              "<Figure size 640x480 with 1 Axes>"
            ],
            "image/png": "[encoded data removed]"
          },
          "metadata": {}
        }
      ]
    },
    {
      "cell_type": "markdown",
      "source": [
        "# MSWEP Rainfall"
      ],
      "metadata": {
        "id": "MCxPAuQ6g574"
      }
    },
    {
      "cell_type": "markdown",
      "source": [
        "### **Monthly Rainfall Plot**"
      ],
      "metadata": {
        "id": "f_qvpKqWhiX4"
      }
    },
    {
      "cell_type": "code",
      "source": [
        "!pip install cartopy\n",
        "!pip uninstall -y shapely\n",
        "!pip install shapely --no-binary shapely --force\n",
        "\n",
        "import xarray as xr\n",
        "import numpy as np\n",
        "import matplotlib.pyplot as plt\n",
        "import cartopy as crt\n",
        "import cartopy.crs as ccrs\n",
        "import cartopy.feature as cftr\n",
        "import seaborn as sns\n",
        "#sns.set_theme(context='talk', font='serif', palette='colorblind')"
      ],
      "metadata": {
        "id": "rRrMZEZ1-LbJ"
      },
      "execution_count": null,
      "outputs": []
    },
    {
      "cell_type": "code",
      "source": [
        "dsa = ds.sel(time=slice('1990-01','2019-12'))\n",
        "dsa = dsa.groupby('time.month').mean()\n",
        "#dsa = ds['time'].index.month.isin([11,12,1,2,3,4])\n",
        "dsa"
      ],
      "metadata": {
        "id": "VPM4xkyI_F5p"
      },
      "execution_count": null,
      "outputs": []
    },
    {
      "cell_type": "code",
      "source": [
        "  #Tren kecepatan angin di Indonesia (m/s per dekade)\n",
        "  import matplotlib.pyplot as plt\n",
        "  import matplotlib.ticker as mticker\n",
        "  import cartopy.crs as ccrs\n",
        "  from cartopy.mpl.ticker import (LongitudeFormatter, LatitudeFormatter, LatitudeLocator)\n",
        "  fig = plt.figure(figsize=(15,10))\n",
        "  #mode_spasial = param_ccmp_ind.polyfit_coefficients.sel(degree=1)*(1/3.805175038E-16)*120\n",
        "  level = np.linspace(0, 500, 6, endpoint=True)\n",
        "  ax = plt.subplot2grid((4,1), (0,0), rowspan=3,\n",
        "                        projection=crt.crs.PlateCarree())\n",
        "  PC_map = dsa.isel(month=0).plot.contourf(ax=ax,\n",
        "                                      cmap='RdYlBu',\n",
        "                                      levels=level,\n",
        "                                      extend='both',\n",
        "                                      transform=ccrs.PlateCarree(),\n",
        "                                      add_colorbar=False)\n",
        "  plt.colorbar(PC_map,\n",
        "              shrink=0.8,\n",
        "              pad=0.1,\n",
        "              aspect=50,\n",
        "               orientation='horizontal'\n",
        "              ).set_label(\"mm\")\n",
        "  ax.set_title(\"Rata-rata Curah Hujan Bulan Januari 1990-2019\", size=20, pad=15)\n",
        "  ax.coastlines(lw=2, color='k', zorder=2)\n",
        "  ax.add_feature(cftr.LAND, facecolor='white', zorder=0)\n",
        "\n",
        "  ax.coastlines()\n",
        "\n",
        "  #ax.set_extent([90, 150, -15, 15])\n",
        "\n",
        "  gl = ax.gridlines(crs=ccrs.PlateCarree(), draw_labels=True,\n",
        "                    linewidth=2, color='white',alpha=0.6)\n",
        "  gl.top_labels = False\n",
        "  gl.right_labels = False\n",
        "\n",
        "  gl.ylocator = LatitudeLocator()\n",
        "  gl.xformatter = LongitudeFormatter()\n",
        "  gl.yformatter = LatitudeFormatter()\n",
        "\n",
        "\n",
        "  gl.xlabel_style = {'size': 18, 'color': 'k'}#, 'rotation':45}\n",
        "  gl.ylabel_style = {'color': 'k',  'size':18}\n",
        "\n",
        "  #ax0.gridlines()\n",
        "\n",
        "  plt.show()"
      ],
      "metadata": {
        "id": "ZzE-IG0JWTho"
      },
      "execution_count": null,
      "outputs": []
    },
    {
      "cell_type": "code",
      "source": [
        "  #Tren kecepatan angin di Indonesia (m/s per dekade)\n",
        "  import matplotlib.pyplot as plt\n",
        "  import matplotlib.ticker as mticker\n",
        "  import cartopy.crs as ccrs\n",
        "  from cartopy.mpl.ticker import (LongitudeFormatter, LatitudeFormatter, LatitudeLocator)\n",
        "  fig = plt.figure(figsize=(15,10))\n",
        "  #mode_spasial = param_ccmp_ind.polyfit_coefficients.sel(degree=1)*(1/3.805175038E-16)*120\n",
        "  level = np.linspace(0, 500, 6, endpoint=True)\n",
        "  ax = plt.subplot2grid((4,1), (0,0), rowspan=3,\n",
        "                        projection=crt.crs.PlateCarree())\n",
        "  PC_map = dsa.isel(month=1).plot.contourf(ax=ax,\n",
        "                                      cmap='RdYlBu',\n",
        "                                      levels=level,\n",
        "                                      extend='both',\n",
        "                                      transform=ccrs.PlateCarree(),\n",
        "                                      add_colorbar=False)\n",
        "  plt.colorbar(PC_map,\n",
        "              shrink=0.8,\n",
        "              pad=0.1,\n",
        "              aspect=50,\n",
        "               orientation='horizontal'\n",
        "              ).set_label(\"mm\")\n",
        "  ax.set_title(\"Rata-rata Curah Hujan Bulan Februari 1990-2019\", size=20, pad=15)\n",
        "  ax.coastlines(lw=2, color='k', zorder=2)\n",
        "  ax.add_feature(cftr.LAND, facecolor='white', zorder=0)\n",
        "\n",
        "  ax.coastlines()\n",
        "\n",
        "  #ax.set_extent([90, 150, -15, 15])\n",
        "\n",
        "  gl = ax.gridlines(crs=ccrs.PlateCarree(), draw_labels=True,\n",
        "                    linewidth=2, color='white',alpha=0.6)\n",
        "  gl.top_labels = False\n",
        "  gl.right_labels = False\n",
        "\n",
        "  gl.ylocator = LatitudeLocator()\n",
        "  gl.xformatter = LongitudeFormatter()\n",
        "  gl.yformatter = LatitudeFormatter()\n",
        "\n",
        "\n",
        "  gl.xlabel_style = {'size': 18, 'color': 'k'}#, 'rotation':45}\n",
        "  gl.ylabel_style = {'color': 'k',  'size':18}\n",
        "\n",
        "  #ax0.gridlines()\n",
        "\n",
        "  plt.show()"
      ],
      "metadata": {
        "id": "P_CHMz9oXQun"
      },
      "execution_count": null,
      "outputs": []
    },
    {
      "cell_type": "code",
      "source": [
        "  #Tren kecepatan angin di Indonesia (m/s per dekade)\n",
        "  import matplotlib.pyplot as plt\n",
        "  import matplotlib.ticker as mticker\n",
        "  import cartopy.crs as ccrs\n",
        "  from cartopy.mpl.ticker import (LongitudeFormatter, LatitudeFormatter, LatitudeLocator)\n",
        "  fig = plt.figure(figsize=(15,10))\n",
        "  #mode_spasial = param_ccmp_ind.polyfit_coefficients.sel(degree=1)*(1/3.805175038E-16)*120\n",
        "  level = np.linspace(0, 500, 6, endpoint=True)\n",
        "  ax = plt.subplot2grid((4,1), (0,0), rowspan=3,\n",
        "                        projection=crt.crs.PlateCarree())\n",
        "  PC_map = dsa.isel(month=2).plot.contourf(ax=ax,\n",
        "                                      cmap='RdYlBu',\n",
        "                                      levels=level,\n",
        "                                      extend='both',\n",
        "                                      transform=ccrs.PlateCarree(),\n",
        "                                      add_colorbar=False)\n",
        "  plt.colorbar(PC_map,\n",
        "              shrink=0.8,\n",
        "              pad=0.1,\n",
        "              aspect=50,\n",
        "               orientation='horizontal'\n",
        "              ).set_label(\"mm\")\n",
        "  ax.set_title(\"Rata-rata Curah Hujan Bulan Maret 1990-2019\", size=20, pad=15)\n",
        "  ax.coastlines(lw=2, color='k', zorder=2)\n",
        "  ax.add_feature(cftr.LAND, facecolor='white', zorder=0)\n",
        "\n",
        "  ax.coastlines()\n",
        "\n",
        "  #ax.set_extent([90, 150, -15, 15])\n",
        "\n",
        "  gl = ax.gridlines(crs=ccrs.PlateCarree(), draw_labels=True,\n",
        "                    linewidth=2, color='white',alpha=0.6)\n",
        "  gl.top_labels = False\n",
        "  gl.right_labels = False\n",
        "\n",
        "  gl.ylocator = LatitudeLocator()\n",
        "  gl.xformatter = LongitudeFormatter()\n",
        "  gl.yformatter = LatitudeFormatter()\n",
        "\n",
        "\n",
        "  gl.xlabel_style = {'size': 18, 'color': 'k'}#, 'rotation':45}\n",
        "  gl.ylabel_style = {'color': 'k',  'size':18}\n",
        "\n",
        "  #ax0.gridlines()\n",
        "\n",
        "  plt.show()"
      ],
      "metadata": {
        "id": "PhtZU6rHYSCt"
      },
      "execution_count": null,
      "outputs": []
    },
    {
      "cell_type": "code",
      "source": [
        "  #Tren kecepatan angin di Indonesia (m/s per dekade)\n",
        "  import matplotlib.pyplot as plt\n",
        "  import matplotlib.ticker as mticker\n",
        "  import cartopy.crs as ccrs\n",
        "  from cartopy.mpl.ticker import (LongitudeFormatter, LatitudeFormatter, LatitudeLocator)\n",
        "  fig = plt.figure(figsize=(15,10))\n",
        "  #mode_spasial = param_ccmp_ind.polyfit_coefficients.sel(degree=1)*(1/3.805175038E-16)*120\n",
        "  level = np.linspace(0, 500, 6, endpoint=True)\n",
        "  ax = plt.subplot2grid((4,1), (0,0), rowspan=3,\n",
        "                        projection=crt.crs.PlateCarree())\n",
        "  PC_map = dsa.isel(month=3).plot.contourf(ax=ax,\n",
        "                                      cmap='RdYlBu',\n",
        "                                      levels=level,\n",
        "                                      extend='both',\n",
        "                                      transform=ccrs.PlateCarree(),\n",
        "                                      add_colorbar=False)\n",
        "  plt.colorbar(PC_map,\n",
        "              shrink=0.8,\n",
        "              pad=0.1,\n",
        "              aspect=50,\n",
        "               orientation='horizontal'\n",
        "              ).set_label(\"mm\")\n",
        "  ax.set_title(\"Rata-rata Curah Hujan Bulan April 1990-2019\", size=20, pad=15)\n",
        "  ax.coastlines(lw=2, color='k', zorder=2)\n",
        "  ax.add_feature(cftr.LAND, facecolor='white', zorder=0)\n",
        "\n",
        "  ax.coastlines()\n",
        "\n",
        "  #ax.set_extent([90, 150, -15, 15])\n",
        "\n",
        "  gl = ax.gridlines(crs=ccrs.PlateCarree(), draw_labels=True,\n",
        "                    linewidth=2, color='white',alpha=0.6)\n",
        "  gl.top_labels = False\n",
        "  gl.right_labels = False\n",
        "\n",
        "  gl.ylocator = LatitudeLocator()\n",
        "  gl.xformatter = LongitudeFormatter()\n",
        "  gl.yformatter = LatitudeFormatter()\n",
        "\n",
        "\n",
        "  gl.xlabel_style = {'size': 18, 'color': 'k'}#, 'rotation':45}\n",
        "  gl.ylabel_style = {'color': 'k',  'size':18}\n",
        "\n",
        "  #ax0.gridlines()\n",
        "\n",
        "  plt.show()"
      ],
      "metadata": {
        "id": "3uFD8WeKYXiA"
      },
      "execution_count": null,
      "outputs": []
    },
    {
      "cell_type": "code",
      "source": [
        "  #Tren kecepatan angin di Indonesia (m/s per dekade)\n",
        "  import matplotlib.pyplot as plt\n",
        "  import matplotlib.ticker as mticker\n",
        "  import cartopy.crs as ccrs\n",
        "  from cartopy.mpl.ticker import (LongitudeFormatter, LatitudeFormatter, LatitudeLocator)\n",
        "  fig = plt.figure(figsize=(15,10))\n",
        "  #mode_spasial = param_ccmp_ind.polyfit_coefficients.sel(degree=1)*(1/3.805175038E-16)*120\n",
        "  level = np.linspace(0, 500, 6, endpoint=True)\n",
        "  ax = plt.subplot2grid((4,1), (0,0), rowspan=3,\n",
        "                        projection=crt.crs.PlateCarree())\n",
        "  PC_map = dsa.isel(month=4).plot.contourf(ax=ax,\n",
        "                                      cmap='RdYlBu',\n",
        "                                      levels=level,\n",
        "                                      extend='both',\n",
        "                                      transform=ccrs.PlateCarree(),\n",
        "                                      add_colorbar=False)\n",
        "  plt.colorbar(PC_map,\n",
        "              shrink=0.8,\n",
        "              pad=0.1,\n",
        "              aspect=50,\n",
        "               orientation='horizontal'\n",
        "              ).set_label(\"mm\")\n",
        "  ax.set_title(\"Rata-rata Curah Hujan Bulan Mei 1990-2019\", size=20, pad=15)\n",
        "  ax.coastlines(lw=2, color='k', zorder=2)\n",
        "  ax.add_feature(cftr.LAND, facecolor='white', zorder=0)\n",
        "\n",
        "  ax.coastlines()\n",
        "\n",
        "  #ax.set_extent([90, 150, -15, 15])\n",
        "\n",
        "  gl = ax.gridlines(crs=ccrs.PlateCarree(), draw_labels=True,\n",
        "                    linewidth=2, color='white',alpha=0.6)\n",
        "  gl.top_labels = False\n",
        "  gl.right_labels = False\n",
        "\n",
        "  gl.ylocator = LatitudeLocator()\n",
        "  gl.xformatter = LongitudeFormatter()\n",
        "  gl.yformatter = LatitudeFormatter()\n",
        "\n",
        "\n",
        "  gl.xlabel_style = {'size': 18, 'color': 'k'}#, 'rotation':45}\n",
        "  gl.ylabel_style = {'color': 'k',  'size':18}\n",
        "\n",
        "  #ax0.gridlines()\n",
        "\n",
        "  plt.show()"
      ],
      "metadata": {
        "id": "VrIhlUtWYaQM"
      },
      "execution_count": null,
      "outputs": []
    },
    {
      "cell_type": "code",
      "source": [
        "  #Tren kecepatan angin di Indonesia (m/s per dekade)\n",
        "  import matplotlib.pyplot as plt\n",
        "  import matplotlib.ticker as mticker\n",
        "  import cartopy.crs as ccrs\n",
        "  from cartopy.mpl.ticker import (LongitudeFormatter, LatitudeFormatter, LatitudeLocator)\n",
        "  fig = plt.figure(figsize=(15,10))\n",
        "  #mode_spasial = param_ccmp_ind.polyfit_coefficients.sel(degree=1)*(1/3.805175038E-16)*120\n",
        "  level = np.linspace(0, 500, 6, endpoint=True)\n",
        "  ax = plt.subplot2grid((4,1), (0,0), rowspan=3,\n",
        "                        projection=crt.crs.PlateCarree())\n",
        "  PC_map = dsa.isel(month=5).plot.contourf(ax=ax,\n",
        "                                      cmap='RdYlBu',\n",
        "                                      levels=level,\n",
        "                                      extend='both',\n",
        "                                      transform=ccrs.PlateCarree(),\n",
        "                                      add_colorbar=False)\n",
        "  plt.colorbar(PC_map,\n",
        "              shrink=0.8,\n",
        "              pad=0.1,\n",
        "              aspect=50,\n",
        "               orientation='horizontal'\n",
        "              ).set_label(\"mm\")\n",
        "  ax.set_title(\"Rata-rata Curah Hujan Bulan Juni 1990-2019\", size=20, pad=15)\n",
        "  ax.coastlines(lw=2, color='k', zorder=2)\n",
        "  ax.add_feature(cftr.LAND, facecolor='white', zorder=0)\n",
        "\n",
        "  ax.coastlines()\n",
        "\n",
        "  #ax.set_extent([90, 150, -15, 15])\n",
        "\n",
        "  gl = ax.gridlines(crs=ccrs.PlateCarree(), draw_labels=True,\n",
        "                    linewidth=2, color='white',alpha=0.6)\n",
        "  gl.top_labels = False\n",
        "  gl.right_labels = False\n",
        "\n",
        "  gl.ylocator = LatitudeLocator()\n",
        "  gl.xformatter = LongitudeFormatter()\n",
        "  gl.yformatter = LatitudeFormatter()\n",
        "\n",
        "\n",
        "  gl.xlabel_style = {'size': 18, 'color': 'k'}#, 'rotation':45}\n",
        "  gl.ylabel_style = {'color': 'k',  'size':18}\n",
        "\n",
        "  #ax0.gridlines()\n",
        "\n",
        "  plt.show()"
      ],
      "metadata": {
        "id": "20Yaf2xuYdX6"
      },
      "execution_count": null,
      "outputs": []
    },
    {
      "cell_type": "code",
      "source": [
        "  #Tren kecepatan angin di Indonesia (m/s per dekade)\n",
        "  import matplotlib.pyplot as plt\n",
        "  import matplotlib.ticker as mticker\n",
        "  import cartopy.crs as ccrs\n",
        "  from cartopy.mpl.ticker import (LongitudeFormatter, LatitudeFormatter, LatitudeLocator)\n",
        "  fig = plt.figure(figsize=(15,10))\n",
        "  #mode_spasial = param_ccmp_ind.polyfit_coefficients.sel(degree=1)*(1/3.805175038E-16)*120\n",
        "  level = np.linspace(0, 500, 6, endpoint=True)\n",
        "  ax = plt.subplot2grid((4,1), (0,0), rowspan=3,\n",
        "                        projection=crt.crs.PlateCarree())\n",
        "  PC_map = dsa.isel(month=6).plot.contourf(ax=ax,\n",
        "                                      cmap='RdYlBu',\n",
        "                                      levels=level,\n",
        "                                      extend='both',\n",
        "                                      transform=ccrs.PlateCarree(),\n",
        "                                      add_colorbar=False)\n",
        "  plt.colorbar(PC_map,\n",
        "              shrink=0.8,\n",
        "              pad=0.1,\n",
        "              aspect=50,\n",
        "               orientation='horizontal'\n",
        "              ).set_label(\"mm\")\n",
        "  ax.set_title(\"Rata-rata Curah Hujan Bulan Juli 1990-2019\", size=20, pad=15)\n",
        "  ax.coastlines(lw=2, color='k', zorder=2)\n",
        "  ax.add_feature(cftr.LAND, facecolor='white', zorder=0)\n",
        "\n",
        "  ax.coastlines()\n",
        "\n",
        "  #ax.set_extent([90, 150, -15, 15])\n",
        "\n",
        "  gl = ax.gridlines(crs=ccrs.PlateCarree(), draw_labels=True,\n",
        "                    linewidth=2, color='white',alpha=0.6)\n",
        "  gl.top_labels = False\n",
        "  gl.right_labels = False\n",
        "\n",
        "  gl.ylocator = LatitudeLocator()\n",
        "  gl.xformatter = LongitudeFormatter()\n",
        "  gl.yformatter = LatitudeFormatter()\n",
        "\n",
        "\n",
        "  gl.xlabel_style = {'size': 18, 'color': 'k'}#, 'rotation':45}\n",
        "  gl.ylabel_style = {'color': 'k',  'size':18}\n",
        "\n",
        "  #ax0.gridlines()\n",
        "\n",
        "  plt.show()"
      ],
      "metadata": {
        "id": "CsfwhvipYhuA"
      },
      "execution_count": null,
      "outputs": []
    },
    {
      "cell_type": "code",
      "source": [
        "  #Tren kecepatan angin di Indonesia (m/s per dekade)\n",
        "  import matplotlib.pyplot as plt\n",
        "  import matplotlib.ticker as mticker\n",
        "  import cartopy.crs as ccrs\n",
        "  from cartopy.mpl.ticker import (LongitudeFormatter, LatitudeFormatter, LatitudeLocator)\n",
        "  fig = plt.figure(figsize=(15,10))\n",
        "  #mode_spasial = param_ccmp_ind.polyfit_coefficients.sel(degree=1)*(1/3.805175038E-16)*120\n",
        "  level = np.linspace(0, 500, 6, endpoint=True)\n",
        "  ax = plt.subplot2grid((4,1), (0,0), rowspan=3,\n",
        "                        projection=crt.crs.PlateCarree())\n",
        "  PC_map = dsa.isel(month=7).plot.contourf(ax=ax,\n",
        "                                      cmap='RdYlBu',\n",
        "                                      levels=level,\n",
        "                                      extend='both',\n",
        "                                      transform=ccrs.PlateCarree(),\n",
        "                                      add_colorbar=False)\n",
        "  plt.colorbar(PC_map,\n",
        "              shrink=0.8,\n",
        "              pad=0.1,\n",
        "              aspect=50,\n",
        "               orientation='horizontal'\n",
        "              ).set_label(\"mm\")\n",
        "  ax.set_title(\"Rata-rata Curah Hujan Bulan Agustus 1990-2019\", size=20, pad=15)\n",
        "  ax.coastlines(lw=2, color='k', zorder=2)\n",
        "  ax.add_feature(cftr.LAND, facecolor='white', zorder=0)\n",
        "\n",
        "  ax.coastlines()\n",
        "\n",
        "  #ax.set_extent([90, 150, -15, 15])\n",
        "\n",
        "  gl = ax.gridlines(crs=ccrs.PlateCarree(), draw_labels=True,\n",
        "                    linewidth=2, color='white',alpha=0.6)\n",
        "  gl.top_labels = False\n",
        "  gl.right_labels = False\n",
        "\n",
        "  gl.ylocator = LatitudeLocator()\n",
        "  gl.xformatter = LongitudeFormatter()\n",
        "  gl.yformatter = LatitudeFormatter()\n",
        "\n",
        "\n",
        "  gl.xlabel_style = {'size': 18, 'color': 'k'}#, 'rotation':45}\n",
        "  gl.ylabel_style = {'color': 'k',  'size':18}\n",
        "\n",
        "  #ax0.gridlines()\n",
        "\n",
        "  plt.show()"
      ],
      "metadata": {
        "id": "Y2HgBZhsY1O3"
      },
      "execution_count": null,
      "outputs": []
    },
    {
      "cell_type": "code",
      "source": [
        "  #Tren kecepatan angin di Indonesia (m/s per dekade)\n",
        "  import matplotlib.pyplot as plt\n",
        "  import matplotlib.ticker as mticker\n",
        "  import cartopy.crs as ccrs\n",
        "  from cartopy.mpl.ticker import (LongitudeFormatter, LatitudeFormatter, LatitudeLocator)\n",
        "  fig = plt.figure(figsize=(15,10))\n",
        "  #mode_spasial = param_ccmp_ind.polyfit_coefficients.sel(degree=1)*(1/3.805175038E-16)*120\n",
        "  level = np.linspace(0, 500, 6, endpoint=True)\n",
        "  ax = plt.subplot2grid((4,1), (0,0), rowspan=3,\n",
        "                        projection=crt.crs.PlateCarree())\n",
        "  PC_map = dsa.isel(month=8).plot.contourf(ax=ax,\n",
        "                                      cmap='RdYlBu',\n",
        "                                      levels=level,\n",
        "                                      extend='both',\n",
        "                                      transform=ccrs.PlateCarree(),\n",
        "                                      add_colorbar=False)\n",
        "  plt.colorbar(PC_map,\n",
        "              shrink=0.8,\n",
        "              pad=0.1,\n",
        "              aspect=50,\n",
        "               orientation='horizontal'\n",
        "              ).set_label(\"mm\")\n",
        "  ax.set_title(\"Rata-rata Curah Hujan Bulan September 1990-2019\", size=20, pad=15)\n",
        "  ax.coastlines(lw=2, color='k', zorder=2)\n",
        "  ax.add_feature(cftr.LAND, facecolor='white', zorder=0)\n",
        "\n",
        "  ax.coastlines()\n",
        "\n",
        "  #ax.set_extent([90, 150, -15, 15])\n",
        "\n",
        "  gl = ax.gridlines(crs=ccrs.PlateCarree(), draw_labels=True,\n",
        "                    linewidth=2, color='white',alpha=0.6)\n",
        "  gl.top_labels = False\n",
        "  gl.right_labels = False\n",
        "\n",
        "  gl.ylocator = LatitudeLocator()\n",
        "  gl.xformatter = LongitudeFormatter()\n",
        "  gl.yformatter = LatitudeFormatter()\n",
        "\n",
        "\n",
        "  gl.xlabel_style = {'size': 18, 'color': 'k'}#, 'rotation':45}\n",
        "  gl.ylabel_style = {'color': 'k',  'size':18}\n",
        "\n",
        "  #ax0.gridlines()\n",
        "\n",
        "  plt.show()"
      ],
      "metadata": {
        "id": "EaQUwz5SY4ty"
      },
      "execution_count": null,
      "outputs": []
    },
    {
      "cell_type": "code",
      "source": [
        "  #Tren kecepatan angin di Indonesia (m/s per dekade)\n",
        "  import matplotlib.pyplot as plt\n",
        "  import matplotlib.ticker as mticker\n",
        "  import cartopy.crs as ccrs\n",
        "  from cartopy.mpl.ticker import (LongitudeFormatter, LatitudeFormatter, LatitudeLocator)\n",
        "  fig = plt.figure(figsize=(15,10))\n",
        "  #mode_spasial = param_ccmp_ind.polyfit_coefficients.sel(degree=1)*(1/3.805175038E-16)*120\n",
        "  level = np.linspace(0, 500, 6, endpoint=True)\n",
        "  ax = plt.subplot2grid((4,1), (0,0), rowspan=3,\n",
        "                        projection=crt.crs.PlateCarree())\n",
        "  PC_map = dsa.isel(month=9).plot.contourf(ax=ax,\n",
        "                                      cmap='RdYlBu',\n",
        "                                      levels=level,\n",
        "                                      extend='both',\n",
        "                                      transform=ccrs.PlateCarree(),\n",
        "                                      add_colorbar=False)\n",
        "  plt.colorbar(PC_map,\n",
        "              shrink=0.8,\n",
        "              pad=0.1,\n",
        "              aspect=50,\n",
        "               orientation='horizontal'\n",
        "              ).set_label(\"mm\")\n",
        "  ax.set_title(\"Rata-rata Curah Hujan Bulan Oktober 1990-2019\", size=20, pad=15)\n",
        "  ax.coastlines(lw=2, color='k', zorder=2)\n",
        "  ax.add_feature(cftr.LAND, facecolor='white', zorder=0)\n",
        "\n",
        "  ax.coastlines()\n",
        "\n",
        "  #ax.set_extent([90, 150, -15, 15])\n",
        "\n",
        "  gl = ax.gridlines(crs=ccrs.PlateCarree(), draw_labels=True,\n",
        "                    linewidth=2, color='white',alpha=0.6)\n",
        "  gl.top_labels = False\n",
        "  gl.right_labels = False\n",
        "\n",
        "  gl.ylocator = LatitudeLocator()\n",
        "  gl.xformatter = LongitudeFormatter()\n",
        "  gl.yformatter = LatitudeFormatter()\n",
        "\n",
        "\n",
        "  gl.xlabel_style = {'size': 18, 'color': 'k'}#, 'rotation':45}\n",
        "  gl.ylabel_style = {'color': 'k',  'size':18}\n",
        "\n",
        "  #ax0.gridlines()\n",
        "\n",
        "  plt.show()"
      ],
      "metadata": {
        "id": "eJi0bfJoY8Vz"
      },
      "execution_count": null,
      "outputs": []
    },
    {
      "cell_type": "code",
      "source": [
        "  #Tren kecepatan angin di Indonesia (m/s per dekade)\n",
        "  import matplotlib.pyplot as plt\n",
        "  import matplotlib.ticker as mticker\n",
        "  import cartopy.crs as ccrs\n",
        "  from cartopy.mpl.ticker import (LongitudeFormatter, LatitudeFormatter, LatitudeLocator)\n",
        "  fig = plt.figure(figsize=(15,10))\n",
        "  #mode_spasial = param_ccmp_ind.polyfit_coefficients.sel(degree=1)*(1/3.805175038E-16)*120\n",
        "  level = np.linspace(0, 500, 6, endpoint=True)\n",
        "  ax = plt.subplot2grid((4,1), (0,0), rowspan=3,\n",
        "                        projection=crt.crs.PlateCarree())\n",
        "  PC_map = dsa.isel(month=10).plot.contourf(ax=ax,\n",
        "                                      cmap='RdYlBu',\n",
        "                                      levels=level,\n",
        "                                      extend='both',\n",
        "                                      transform=ccrs.PlateCarree(),\n",
        "                                      add_colorbar=False)\n",
        "  plt.colorbar(PC_map,\n",
        "              shrink=0.8,\n",
        "              pad=0.1,\n",
        "              aspect=50,\n",
        "               orientation='horizontal'\n",
        "              ).set_label(\"mm\")\n",
        "  ax.set_title(\"Rata-rata Curah Hujan Bulan November 1990-2019\", size=20, pad=15)\n",
        "  ax.coastlines(lw=2, color='k', zorder=2)\n",
        "  ax.add_feature(cftr.LAND, facecolor='white', zorder=0)\n",
        "\n",
        "  ax.coastlines()\n",
        "\n",
        "  #ax.set_extent([90, 150, -15, 15])\n",
        "\n",
        "  gl = ax.gridlines(crs=ccrs.PlateCarree(), draw_labels=True,\n",
        "                    linewidth=2, color='white',alpha=0.6)\n",
        "  gl.top_labels = False\n",
        "  gl.right_labels = False\n",
        "\n",
        "  gl.ylocator = LatitudeLocator()\n",
        "  gl.xformatter = LongitudeFormatter()\n",
        "  gl.yformatter = LatitudeFormatter()\n",
        "\n",
        "\n",
        "  gl.xlabel_style = {'size': 18, 'color': 'k'}#, 'rotation':45}\n",
        "  gl.ylabel_style = {'color': 'k',  'size':18}\n",
        "\n",
        "  #ax0.gridlines()\n",
        "\n",
        "  plt.show()"
      ],
      "metadata": {
        "id": "r7EKLOHbZCWE"
      },
      "execution_count": null,
      "outputs": []
    },
    {
      "cell_type": "code",
      "source": [
        "  #Tren kecepatan angin di Indonesia (m/s per dekade)\n",
        "  import matplotlib.pyplot as plt\n",
        "  import matplotlib.ticker as mticker\n",
        "  import cartopy.crs as ccrs\n",
        "  from cartopy.mpl.ticker import (LongitudeFormatter, LatitudeFormatter, LatitudeLocator)\n",
        "  fig = plt.figure(figsize=(15,10))\n",
        "  #mode_spasial = param_ccmp_ind.polyfit_coefficients.sel(degree=1)*(1/3.805175038E-16)*120\n",
        "  level = np.linspace(0, 500, 6, endpoint=True)\n",
        "  ax = plt.subplot2grid((4,1), (0,0), rowspan=3,\n",
        "                        projection=crt.crs.PlateCarree())\n",
        "  PC_map = dsa.isel(month=11).plot.contourf(ax=ax,\n",
        "                                      cmap='RdYlBu',\n",
        "                                      levels=level,\n",
        "                                      extend='both',\n",
        "                                      transform=ccrs.PlateCarree(),\n",
        "                                      add_colorbar=False)\n",
        "  plt.colorbar(PC_map,\n",
        "              shrink=0.8,\n",
        "              pad=0.1,\n",
        "              aspect=50,\n",
        "               orientation='horizontal'\n",
        "              ).set_label(\"mm\")\n",
        "  ax.set_title(\"Rata-rata Curah Hujan Bulan Desember 1990-2019\", size=20, pad=15)\n",
        "  ax.coastlines(lw=2, color='k', zorder=2)\n",
        "  ax.add_feature(cftr.LAND, facecolor='white', zorder=0)\n",
        "\n",
        "  ax.coastlines()\n",
        "\n",
        "  #ax.set_extent([90, 150, -15, 15])\n",
        "\n",
        "  gl = ax.gridlines(crs=ccrs.PlateCarree(), draw_labels=True,\n",
        "                    linewidth=2, color='white',alpha=0.6)\n",
        "  gl.top_labels = False\n",
        "  gl.right_labels = False\n",
        "\n",
        "  gl.ylocator = LatitudeLocator()\n",
        "  gl.xformatter = LongitudeFormatter()\n",
        "  gl.yformatter = LatitudeFormatter()\n",
        "\n",
        "\n",
        "  gl.xlabel_style = {'size': 18, 'color': 'k'}#, 'rotation':45}\n",
        "  gl.ylabel_style = {'color': 'k',  'size':18}\n",
        "\n",
        "  #ax0.gridlines()\n",
        "\n",
        "  plt.show()"
      ],
      "metadata": {
        "id": "SESPVMj7ZFkF"
      },
      "execution_count": null,
      "outputs": []
    },
    {
      "cell_type": "code",
      "source": [],
      "metadata": {
        "id": "ejqr0QsthgYf"
      },
      "execution_count": null,
      "outputs": []
    },
    {
      "cell_type": "markdown",
      "source": [
        "### **3-Monthly Rainfall Anomaly**"
      ],
      "metadata": {
        "id": "Ysp5vAZJhlKF"
      }
    },
    {
      "cell_type": "code",
      "source": [
        "ds = xr.open_dataset('/content/drive/MyDrive/Project Monsun/Data/MSWEP_MON_INA_197902-202011.nc')\n",
        "ds = ds['precipitation']\n",
        "ds"
      ],
      "metadata": {
        "id": "SepLCfcsQdoz"
      },
      "execution_count": null,
      "outputs": []
    },
    {
      "cell_type": "code",
      "source": [
        "import xarray as xr\n",
        "import matplotlib.pyplot as plt\n",
        "\n",
        "# Load the data\n",
        "ds = xr.open_dataset('/content/drive/MyDrive/Project Monsun/Data/MSWEP_MON_INA_197902-202011.nc')\n",
        "ds = ds['precipitation']\n",
        "\n",
        "# Calculate the monthly mean\n",
        "monthly_mean = ds.groupby('time.month').mean()\n",
        "\n",
        "# Calculate the seasonal mean\n",
        "djf = monthly_mean.sel(month=[12, 1, 2]).mean(dim='month')\n",
        "mam = monthly_mean.sel(month=[3, 4, 5]).mean(dim='month')\n",
        "jja = monthly_mean.sel(month=[6, 7, 8]).mean(dim='month')\n",
        "son = monthly_mean.sel(month=[9, 10, 11]).mean(dim='month')\n",
        "\n",
        "# Calculate the anomalies\n",
        "anomaly_djf = djf - monthly_mean.mean(dim='month')\n",
        "anomaly_mam = mam - monthly_mean.mean(dim='month')\n",
        "anomaly_jja = jja - monthly_mean.mean(dim='month')\n",
        "anomaly_son = son - monthly_mean.mean(dim='month')\n",
        "\n",
        "# Create a figure with four subplots\n",
        "fig, axes = plt.subplots(nrows=2, ncols=2, figsize=(10, 8))\n",
        "\n",
        "# Plot the anomalies for each season\n",
        "im1 = axes[0, 0].pcolormesh(anomaly_djf.lon, anomaly_djf.lat, anomaly_djf, cmap='RdBu_r')\n",
        "im2 = axes[0, 1].pcolormesh(anomaly_mam.lon, anomaly_mam.lat, anomaly_mam, cmap='RdBu_r')\n",
        "im3 = axes[1, 0].pcolormesh(anomaly_jja.lon, anomaly_jja.lat, anomaly_jja, cmap='RdBu_r')\n",
        "im4 = axes[1, 1].pcolormesh(anomaly_son.lon, anomaly_son.lat, anomaly_son, cmap='RdBu_r')\n",
        "\n",
        "# Add colorbars to each subplot\n",
        "cb1 = fig.colorbar(im1, ax=axes[0, 0], orientation='horizontal')\n",
        "cb2 = fig.colorbar(im2, ax=axes[0, 1], orientation='horizontal')\n",
        "cb3 = fig.colorbar(im3, ax=axes[1, 0], orientation='horizontal')\n",
        "cb4 = fig.colorbar(im3, ax=axes[1, 1], orientation='horizontal')\n",
        "\n",
        "# Set the titles and axis labels\n",
        "axes[0, 0].set_title('DJF Anomaly')\n",
        "axes[0, 1].set_title('MAM Anomaly')\n",
        "axes[1, 0].set_title('JJA Anomaly')\n",
        "axes[1, 1].set_title('SON Anomaly')\n",
        "for ax in axes.flatten():\n",
        "    ax.set_xlabel('Longitude')\n",
        "    ax.set_ylabel('Latitude')\n",
        "\n",
        "# Show the plot\n",
        "plt.show()\n"
      ],
      "metadata": {
        "id": "Mpihl6nEHrKN"
      },
      "execution_count": null,
      "outputs": []
    },
    {
      "cell_type": "markdown",
      "source": [
        "Tambah basemap (cartopy)"
      ],
      "metadata": {
        "id": "QSIyRpPF6lwZ"
      }
    },
    {
      "cell_type": "code",
      "source": [
        "!pip install cartopy\n",
        "!pip install shapely --no-binary shapely --force"
      ],
      "metadata": {
        "id": "VH-6F8aC-QYt"
      },
      "execution_count": null,
      "outputs": []
    },
    {
      "cell_type": "code",
      "source": [
        "import xarray as xr\n",
        "import matplotlib.pyplot as plt\n",
        "import cartopy.crs as ccrs\n",
        "import cartopy.feature as cfeature\n",
        "\n",
        "# Load the data\n",
        "ds = xr.open_dataset('/content/drive/MyDrive/Project Monsun/Data/MSWEP_MON_INA_197902-202011.nc')\n",
        "ds = ds['precipitation']\n",
        "ds = ds.sel(time=slice('1990-01','2019-12'))\n",
        "\n",
        "# Calculate the monthly mean\n",
        "monthly_mean = ds.groupby('time.month').mean()\n",
        "\n",
        "# Calculate the seasonal mean\n",
        "djf = monthly_mean.sel(month=[12, 1, 2]).mean(dim='month')\n",
        "mam = monthly_mean.sel(month=[3, 4, 5]).mean(dim='month')\n",
        "jja = monthly_mean.sel(month=[6, 7, 8]).mean(dim='month')\n",
        "son = monthly_mean.sel(month=[9, 10, 11]).mean(dim='month')\n",
        "\n",
        "# Create a figure with four subplots\n",
        "fig, axes = plt.subplots(nrows=2, ncols=2, figsize=(10, 8), subplot_kw={'projection': ccrs.PlateCarree()})\n",
        "\n",
        "# Calculate the anomalies\n",
        "anomaly_djf = djf - monthly_mean.mean(dim='month')\n",
        "anomaly_mam = mam - monthly_mean.mean(dim='month')\n",
        "anomaly_jja = jja - monthly_mean.mean(dim='month')\n",
        "anomaly_son = son - monthly_mean.mean(dim='month')\n",
        "\n",
        "# Plot the anomalies for each season\n",
        "im1 = axes[0, 0].pcolormesh(anomaly_djf.lon, anomaly_djf.lat, anomaly_djf, cmap='RdYlBu')\n",
        "im2 = axes[0, 1].pcolormesh(anomaly_mam.lon, anomaly_mam.lat, anomaly_mam, cmap='RdYlBu')\n",
        "im3 = axes[1, 0].pcolormesh(anomaly_jja.lon, anomaly_jja.lat, anomaly_jja, cmap='RdYlBu')\n",
        "im4 = axes[1, 1].pcolormesh(anomaly_son.lon, anomaly_son.lat, anomaly_son, cmap='RdYlBu')\n",
        "\n",
        "# Add colorbars to each subplot\n",
        "cb1 = fig.colorbar(im1, ax=axes[0, 0], orientation='horizontal', shrink=0.6, pad=0.05)\n",
        "cb2 = fig.colorbar(im2, ax=axes[0, 1], orientation='horizontal', shrink=0.6, pad=0.05)\n",
        "cb3 = fig.colorbar(im3, ax=axes[1, 0], orientation='horizontal', shrink=0.6, pad=0.05)\n",
        "cb4 = fig.colorbar(im4, ax=axes[1, 1], orientation='horizontal', shrink=0.6, pad=0.05)\n",
        "\n",
        "# Set the titles and axis labels\n",
        "axes[0, 0].set_title('DJF Anomaly')\n",
        "axes[0, 1].set_title('MAM Anomaly')\n",
        "axes[1, 0].set_title('JJA Anomaly')\n",
        "axes[1, 1].set_title('SON Anomaly')\n",
        "for ax in axes.flatten():\n",
        "    ax.set_xlabel('Longitude')\n",
        "    ax.set_ylabel('Latitude')\n",
        "    ax.coastlines()\n",
        "    ax.add_feature(cfeature.BORDERS)\n",
        "    ax.add_feature(cfeature.STATES)\n",
        "\n",
        "# Show the plot\n",
        "plt.show()"
      ],
      "metadata": {
        "id": "7RJy20TmD59r"
      },
      "execution_count": null,
      "outputs": []
    },
    {
      "cell_type": "code",
      "source": [
        "import xarray as xr\n",
        "import numpy as np\n",
        "import matplotlib.pyplot as plt\n",
        "import matplotlib.ticker as mticker\n",
        "import cartopy.crs as ccrs\n",
        "import cartopy.feature as cftr\n",
        "from cartopy.mpl.ticker import (LongitudeFormatter, LatitudeFormatter, LatitudeLocator)\n",
        "\n",
        "# Open the netCDF dataset\n",
        "ds = xr.open_dataset('/content/drive/MyDrive/Project Monsun/Data/MSWEP_MON_INA_197902-202011.nc')\n",
        "ds = ds['precipitation']\n",
        "ds = ds.sel(time=slice('1990-01','2019-12'))\n",
        "\n",
        "# Calculate the monthly mean\n",
        "monthly_mean = ds.groupby('time.month').mean()\n",
        "\n",
        "# Calculate the seasonal mean\n",
        "djf = monthly_mean.sel(month=[12, 1, 2]).mean(dim='month')\n",
        "#mam = monthly_mean.sel(month=[3, 4, 5]).mean(dim='month')\n",
        "#jja = monthly_mean.sel(month=[6, 7, 8]).mean(dim='month')\n",
        "#son = monthly_mean.sel(month=[9, 10, 11]).mean(dim='month')\n",
        "\n",
        "# Define the levels for the contour plot\n",
        "levels = np.linspace(0, 500, 6)\n",
        "\n",
        "# Create the figure and subplot\n",
        "fig = plt.figure(figsize=(15,10))\n",
        "ax = plt.subplot2grid((2,2), (0,0),\n",
        "                      projection=ccrs.PlateCarree())\n",
        "\n",
        "# Define the color map and plot the contour map\n",
        "cmap = plt.get_cmap('RdYlBu')\n",
        "PC_map = djf.plot.contourf(ax=ax,\n",
        "                           cmap=cmap,\n",
        "                           levels=levels,\n",
        "                           extend='both',\n",
        "                           transform=ccrs.PlateCarree(),\n",
        "                           add_colorbar=False)\n",
        "\n",
        "# Add color bar and title to the subplot\n",
        "plt.colorbar(PC_map,\n",
        "             shrink=0.8,\n",
        "             pad=0.1,\n",
        "             aspect=50,\n",
        "             orientation='horizontal'\n",
        "             ).set_label(\"mm\")\n",
        "ax.set_title(\"Rainfall Anomaly DJF 1990-2019\", size=20, pad=15)\n",
        "\n",
        "# Add coastlines, land, and gridlines\n",
        "ax.coastlines(lw=2, color='k', zorder=2)\n",
        "ax.add_feature(cftr.LAND, facecolor='white', zorder=0)\n",
        "gl = ax.gridlines(crs=ccrs.PlateCarree(), draw_labels=True,\n",
        "                  linewidth=2, color='white',alpha=0.6)\n",
        "gl.top_labels = False\n",
        "gl.right_labels = False\n",
        "gl.ylocator = LatitudeLocator()\n",
        "gl.xformatter = LongitudeFormatter()\n",
        "gl.yformatter = LatitudeFormatter()\n",
        "gl.xlabel_style = {'size': 12, 'color': 'k'}\n",
        "gl.ylabel_style = {'color': 'k', 'size':12}\n",
        "\n",
        "plt.show"
      ],
      "metadata": {
        "id": "ZSGu5Vg_GuPu"
      },
      "execution_count": null,
      "outputs": []
    },
    {
      "cell_type": "code",
      "source": [
        "import xarray as xr\n",
        "import numpy as np\n",
        "import matplotlib.pyplot as plt\n",
        "import matplotlib.ticker as mticker\n",
        "import cartopy.crs as ccrs\n",
        "import cartopy.feature as cftr\n",
        "from cartopy.mpl.ticker import (LongitudeFormatter, LatitudeFormatter, LatitudeLocator)\n",
        "\n",
        "# Open the netCDF dataset\n",
        "ds = xr.open_dataset('/content/drive/MyDrive/Project Monsun/Data/MSWEP_MON_INA_197902-202011.nc')\n",
        "ds = ds['precipitation']\n",
        "ds = ds.sel(time=slice('1990-01','2019-12'))\n",
        "\n",
        "# Calculate the monthly mean\n",
        "monthly_mean = ds.groupby('time.month').mean()\n",
        "\n",
        "# Calculate the seasonal mean\n",
        "#djf = monthly_mean.sel(month=[12, 1, 2]).mean(dim='month')\n",
        "mam = monthly_mean.sel(month=[3, 4, 5]).mean(dim='month')\n",
        "#jja = monthly_mean.sel(month=[6, 7, 8]).mean(dim='month')\n",
        "#son = monthly_mean.sel(month=[9, 10, 11]).mean(dim='month')\n",
        "\n",
        "# Define the levels for the contour plot\n",
        "levels = np.linspace(0, 500, 6)\n",
        "\n",
        "# Create the figure and subplot\n",
        "fig = plt.figure(figsize=(15,10))\n",
        "ax = plt.subplot2grid((2,2), (0,0),\n",
        "                      projection=ccrs.PlateCarree())\n",
        "\n",
        "# Define the color map and plot the contour map\n",
        "cmap = plt.get_cmap('RdYlBu')\n",
        "PC_map = mam.plot.contourf(ax=ax,\n",
        "                           cmap=cmap,\n",
        "                           levels=levels,\n",
        "                           extend='both',\n",
        "                           transform=ccrs.PlateCarree(),\n",
        "                           add_colorbar=False)\n",
        "\n",
        "# Add color bar and title to the subplot\n",
        "plt.colorbar(PC_map,\n",
        "             shrink=0.8,\n",
        "             pad=0.1,\n",
        "             aspect=50,\n",
        "             orientation='horizontal'\n",
        "             ).set_label(\"mm\")\n",
        "ax.set_title(\"Rainfall Anomaly MAM 1990-2019\", size=20, pad=15)\n",
        "\n",
        "# Add coastlines, land, and gridlines\n",
        "ax.coastlines(lw=2, color='k', zorder=2)\n",
        "ax.add_feature(cftr.LAND, facecolor='white', zorder=0)\n",
        "gl = ax.gridlines(crs=ccrs.PlateCarree(), draw_labels=True,\n",
        "                  linewidth=2, color='white',alpha=0.6)\n",
        "gl.top_labels = False\n",
        "gl.right_labels = False\n",
        "gl.ylocator = LatitudeLocator()\n",
        "gl.xformatter = LongitudeFormatter()\n",
        "gl.yformatter = LatitudeFormatter()\n",
        "gl.xlabel_style = {'size': 12, 'color': 'k'}\n",
        "gl.ylabel_style = {'color': 'k', 'size':12}\n",
        "\n",
        "plt.show"
      ],
      "metadata": {
        "id": "QzJ9iszGI_22"
      },
      "execution_count": null,
      "outputs": []
    },
    {
      "cell_type": "code",
      "source": [
        "import xarray as xr\n",
        "import numpy as np\n",
        "import matplotlib.pyplot as plt\n",
        "import matplotlib.ticker as mticker\n",
        "import cartopy.crs as ccrs\n",
        "import cartopy.feature as cftr\n",
        "from cartopy.mpl.ticker import (LongitudeFormatter, LatitudeFormatter, LatitudeLocator)\n",
        "\n",
        "# Open the netCDF dataset\n",
        "ds = xr.open_dataset('/content/drive/MyDrive/Project Monsun/Data/MSWEP_MON_INA_197902-202011.nc')\n",
        "ds = ds['precipitation']\n",
        "ds = ds.sel(time=slice('1990-01','2019-12'))\n",
        "\n",
        "# Calculate the monthly mean\n",
        "monthly_mean = ds.groupby('time.month').mean()\n",
        "\n",
        "# Calculate the seasonal mean\n",
        "#djf = monthly_mean.sel(month=[12, 1, 2]).mean(dim='month')\n",
        "#mam = monthly_mean.sel(month=[3, 4, 5]).mean(dim='month')\n",
        "jja = monthly_mean.sel(month=[6, 7, 8]).mean(dim='month')\n",
        "#son = monthly_mean.sel(month=[9, 10, 11]).mean(dim='month')\n",
        "\n",
        "# Define the levels for the contour plot\n",
        "levels = np.linspace(0, 500, 6)\n",
        "\n",
        "# Create the figure and subplot\n",
        "fig = plt.figure(figsize=(15,10))\n",
        "ax = plt.subplot2grid((2,2), (0,0),\n",
        "                      projection=ccrs.PlateCarree())\n",
        "\n",
        "# Define the color map and plot the contour map\n",
        "cmap = plt.get_cmap('RdYlBu')\n",
        "PC_map = jja.plot.contourf(ax=ax,\n",
        "                           cmap=cmap,\n",
        "                           levels=levels,\n",
        "                           extend='both',\n",
        "                           transform=ccrs.PlateCarree(),\n",
        "                           add_colorbar=False)\n",
        "\n",
        "# Add color bar and title to the subplot\n",
        "plt.colorbar(PC_map,\n",
        "             shrink=0.8,\n",
        "             pad=0.1,\n",
        "             aspect=50,\n",
        "             orientation='horizontal'\n",
        "             ).set_label(\"mm\")\n",
        "ax.set_title(\"Rainfall Anomaly JJA 1990-2019\", size=20, pad=15)\n",
        "\n",
        "# Add coastlines, land, and gridlines\n",
        "ax.coastlines(lw=2, color='k', zorder=2)\n",
        "ax.add_feature(cftr.LAND, facecolor='white', zorder=0)\n",
        "gl = ax.gridlines(crs=ccrs.PlateCarree(), draw_labels=True,\n",
        "                  linewidth=2, color='white',alpha=0.6)\n",
        "gl.top_labels = False\n",
        "gl.right_labels = False\n",
        "gl.ylocator = LatitudeLocator()\n",
        "gl.xformatter = LongitudeFormatter()\n",
        "gl.yformatter = LatitudeFormatter()\n",
        "gl.xlabel_style = {'size': 12, 'color': 'k'}\n",
        "gl.ylabel_style = {'color': 'k', 'size':12}\n",
        "\n",
        "plt.show"
      ],
      "metadata": {
        "id": "vhwCL_qaJJVj"
      },
      "execution_count": null,
      "outputs": []
    },
    {
      "cell_type": "code",
      "source": [
        "import xarray as xr\n",
        "import numpy as np\n",
        "import matplotlib.pyplot as plt\n",
        "import matplotlib.ticker as mticker\n",
        "import cartopy.crs as ccrs\n",
        "import cartopy.feature as cftr\n",
        "from cartopy.mpl.ticker import (LongitudeFormatter, LatitudeFormatter, LatitudeLocator)\n",
        "\n",
        "# Open the netCDF dataset\n",
        "ds = xr.open_dataset('/content/drive/MyDrive/Project Monsun/Data/MSWEP_MON_INA_197902-202011.nc')\n",
        "ds = ds['precipitation']\n",
        "ds = ds.sel(time=slice('1990-01','2019-12'))\n",
        "\n",
        "# Calculate the monthly mean\n",
        "monthly_mean = ds.groupby('time.month').mean()\n",
        "\n",
        "# Calculate the seasonal mean\n",
        "#djf = monthly_mean.sel(month=[12, 1, 2]).mean(dim='month')\n",
        "#mam = monthly_mean.sel(month=[3, 4, 5]).mean(dim='month')\n",
        "#jja = monthly_mean.sel(month=[6, 7, 8]).mean(dim='month')\n",
        "son = monthly_mean.sel(month=[9, 10, 11]).mean(dim='month')\n",
        "\n",
        "# Define the levels for the contour plot\n",
        "levels = np.linspace(0, 500, 6)\n",
        "\n",
        "# Create the figure and subplot\n",
        "fig = plt.figure(figsize=(15,10))\n",
        "ax = plt.subplot2grid((2,2), (0,0),\n",
        "                      projection=ccrs.PlateCarree())\n",
        "\n",
        "# Define the color map and plot the contour map\n",
        "cmap = plt.get_cmap('RdYlBu')\n",
        "PC_map = son.plot.contourf(ax=ax,\n",
        "                           cmap=cmap,\n",
        "                           levels=levels,\n",
        "                           extend='both',\n",
        "                           transform=ccrs.PlateCarree(),\n",
        "                           add_colorbar=False)\n",
        "\n",
        "# Add color bar and title to the subplot\n",
        "plt.colorbar(PC_map,\n",
        "             shrink=0.8,\n",
        "             pad=0.1,\n",
        "             aspect=50,\n",
        "             orientation='horizontal'\n",
        "             ).set_label(\"mm\")\n",
        "ax.set_title(\"Rainfall Anomaly SON 1990-2019\", size=20, pad=15)\n",
        "\n",
        "# Add coastlines, land, and gridlines\n",
        "ax.coastlines(lw=2, color='k', zorder=2)\n",
        "ax.add_feature(cftr.LAND, facecolor='white', zorder=0)\n",
        "gl = ax.gridlines(crs=ccrs.PlateCarree(), draw_labels=True,\n",
        "                  linewidth=2, color='white',alpha=0.6)\n",
        "gl.top_labels = False\n",
        "gl.right_labels = False\n",
        "gl.ylocator = LatitudeLocator()\n",
        "gl.xformatter = LongitudeFormatter()\n",
        "gl.yformatter = LatitudeFormatter()\n",
        "gl.xlabel_style = {'size': 12, 'color': 'k'}\n",
        "gl.ylabel_style = {'color': 'k', 'size':12}\n",
        "\n",
        "plt.show"
      ],
      "metadata": {
        "id": "BBuHumbuJQUY"
      },
      "execution_count": null,
      "outputs": []
    },
    {
      "cell_type": "markdown",
      "source": [
        "# **Hovmoller**"
      ],
      "metadata": {
        "id": "OIW1NAalhzdN"
      }
    },
    {
      "cell_type": "code",
      "source": [
        "!pip uninstall metpy\n",
        "!pip install metpy"
      ],
      "metadata": {
        "id": "FmfS2UfuP_TY"
      },
      "execution_count": null,
      "outputs": []
    },
    {
      "cell_type": "code",
      "source": [
        "!pip uninstall numpy\n",
        "!pip install numpy"
      ],
      "metadata": {
        "id": "a2dBIrpqQyPd"
      },
      "execution_count": null,
      "outputs": []
    },
    {
      "cell_type": "code",
      "execution_count": null,
      "metadata": {
        "id": "95b2441e"
      },
      "outputs": [],
      "source": [
        "import cartopy.crs as ccrs\n",
        "import cartopy.feature as cfeature\n",
        "import matplotlib.gridspec as gridspec\n",
        "import matplotlib.pyplot as plt\n",
        "import metpy.calc as mpcalc\n",
        "import numpy as np\n",
        "import xarray as xr\n",
        "import matplotlib.patches as mpatches\n",
        "import cartopy.crs as ccrs\n",
        "import pandas as pd"
      ]
    },
    {
      "cell_type": "markdown",
      "source": [
        "Seluruh Indonesia"
      ],
      "metadata": {
        "id": "Cl8hfkcWUKZY"
      }
    },
    {
      "cell_type": "code",
      "source": [
        "ds = xr.open_dataset('/content/drive/MyDrive/Project Monsun/Data/MSWEP_MON_INA_197902-202011.nc'.format(param, start_time[:0]))\n",
        "ds"
      ],
      "metadata": {
        "id": "XwTnLX5TMjY4"
      },
      "execution_count": null,
      "outputs": []
    },
    {
      "cell_type": "code",
      "execution_count": null,
      "metadata": {
        "id": "f098e58f"
      },
      "outputs": [],
      "source": [
        "# Create time slice from dates\n",
        "start_time = '1990-01'\n",
        "end_time = '2019-12'\n",
        "\n",
        "# Select NCEP/NCAR parameter and level\n",
        "param = 'precipitation'\n",
        "#level = 850\n",
        "\n",
        "# Remote get dataset using OPeNDAP method via xarray\n",
        "ds = xr.open_dataset('/content/drive/MyDrive/Project Monsun/Data/MSWEP_MON_INA_197902-202011.nc'.format(param, start_time[:0]))\n",
        "\n",
        "# Create slice variables subset domain\n",
        "time_slice = slice(start_time, end_time)\n",
        "lat_slice = slice(15, -15)\n",
        "lon_slice = slice(90, 150)\n",
        "\n",
        "# Get data, selecting time, level, lat/lon slice\n",
        "data = ds[param].sel(time=time_slice,\n",
        "                     lat=lat_slice,\n",
        "                     lon=lon_slice)\n",
        "\n",
        "# Compute weights and take weighted average over latitude dimension\n",
        "weights = np.cos(np.deg2rad(data.lat.values))\n",
        "avg_data = (data * weights[None, :, None]).sum(dim='lat') / np.sum(weights)\n",
        "\n",
        "# Get times and make array of datetime objects\n",
        "vtimes = data.time.values.astype('datetime64[ms]').astype('O')\n",
        "\n",
        "# Specify longitude values for chosen domain\n",
        "lons = data.lon.values\n",
        "\n",
        "\n",
        "# Start figure\n",
        "fig = plt.figure(figsize=(10, 25))\n",
        "\n",
        "# Use gridspec to help size elements of plot; small top plot and big bottom plot\n",
        "gs = gridspec.GridSpec(nrows=2, ncols=1, height_ratios=[2, 10], hspace=0.1)\n",
        "\n",
        "# Tick labels\n",
        "x_tick_labels = [u'100\\N{DEGREE SIGN}E', u'110\\N{DEGREE SIGN}E',\n",
        "                 u'120\\N{DEGREE SIGN}E', u'130\\N{DEGREE SIGN}E',\n",
        "                 u'140\\N{DEGREE SIGN}E']\n",
        "\n",
        "# Top plot for geographic reference (makes small map)\n",
        "ax1 = fig.add_subplot(gs[0, 0], projection=ccrs.PlateCarree(central_longitude=0))\n",
        "ax1.set_extent([90, 150, -15, 15], ccrs.PlateCarree(central_longitude=0))\n",
        "ax1.set_yticks([-10,0, 10])\n",
        "ax1.set_yticklabels([u'10\\N{DEGREE SIGN}S', u'0\\N{DEGREE SIGN}N', u'10\\N{DEGREE SIGN}N'])\n",
        "ax1.set_xticks([100,110,120,130,140])\n",
        "ax1.set_xticklabels(x_tick_labels)\n",
        "ax1.grid(linestyle='dotted', linewidth=2)\n",
        "\n",
        "# Add geopolitical boundaries for map reference\n",
        "ax1.add_feature(cfeature.COASTLINE.with_scale('50m'))\n",
        "ax1.add_feature(cfeature.LAKES.with_scale('50m'), color='black', linewidths=0.5)\n",
        "\n",
        "# Set some titles\n",
        "plt.title('Hovmoller Diagram', loc='left')\n",
        "plt.title('MSWEP', loc='right')\n",
        "\n",
        "# Bottom plot for Hovmoller diagram\n",
        "ax2 = fig.add_subplot(gs[1, 0])\n",
        "ax2.invert_yaxis()  # Reverse the time order to do oldest first\n",
        "\n",
        "# Plot of chosen variable averaged over latitude and slightly smoothed\n",
        "clevs = [0,50,100,150,200,250,300,350,400]\n",
        "cf = ax2.contourf(lons, vtimes, mpcalc.smooth_n_point(\n",
        "    avg_data, 9, 2), clevs, cmap='RdYlBu', extend='max')\n",
        "#cs = ax2.contour(lons, vtimes, mpcalc.smooth_n_point(\n",
        "#    avg_data, 9, 2), clevs, colors='k', linewidths=1)\n",
        "cbar = plt.colorbar(cf, orientation='horizontal', pad=0.04, aspect=50)\n",
        "cbar.set_label('mm')\n",
        "\n",
        "# Make some ticks and tick labels\n",
        "ax2.set_xticks([100,110,120,130,140])\n",
        "ax2.set_xticklabels(x_tick_labels)\n",
        "ax2.set_yticks(vtimes[0::12])\n",
        "ax2.set_yticklabels(vtimes[0::12])\n",
        "\n",
        "# Set some titles\n",
        "plt.title('Precipitation', loc='left', fontsize=10)\n",
        "plt.title('Time Range: {0:%Y%m%d %HZ} - {1:%Y%m%d %HZ}'.format(vtimes[0], vtimes[-1]),\n",
        "          loc='right', fontsize=10)\n",
        "\n",
        "plt.show()"
      ]
    },
    {
      "cell_type": "markdown",
      "source": [
        "Provinsi Kalimantan Timur"
      ],
      "metadata": {
        "id": "q5bNYtqFUPOs"
      }
    },
    {
      "cell_type": "code",
      "source": [
        "# Create time slice from dates\n",
        "start_time = '1990-01'\n",
        "end_time = '2019-12'\n",
        "\n",
        "# Select NCEP/NCAR parameter and level\n",
        "param = 'precipitation'\n",
        "#level = 850\n",
        "\n",
        "# Remote get dataset using OPeNDAP method via xarray\n",
        "ds = xr.open_dataset('/content/drive/MyDrive/Project Monsun/Data/MSWEP_MON_INA_197902-202011.nc'.format(param, start_time[:0]))\n",
        "\n",
        "# Create slice variables subset domain\n",
        "time_slice = slice(start_time, end_time)\n",
        "lat_slice = slice(2.5, -2.5)\n",
        "lon_slice = slice(112, 120)\n",
        "\n",
        "# Get data, selecting time, level, lat/lon slice\n",
        "data = ds[param].sel(time=time_slice,\n",
        "                     lat=lat_slice,\n",
        "                     lon=lon_slice)\n",
        "\n",
        "# Compute weights and take weighted average over latitude dimension\n",
        "weights = np.cos(np.deg2rad(data.lat.values))\n",
        "avg_data = (data * weights[None, :, None]).sum(dim='lat') / np.sum(weights)\n",
        "\n",
        "# Get times and make array of datetime objects\n",
        "vtimes = data.time.values.astype('datetime64[ms]').astype('O')\n",
        "\n",
        "# Specify longitude values for chosen domain\n",
        "lons = data.lon.values\n",
        "\n",
        "\n",
        "# Start figure\n",
        "fig = plt.figure(figsize=(7, 25))\n",
        "\n",
        "# Use gridspec to help size elements of plot; small top plot and big bottom plot\n",
        "gs = gridspec.GridSpec(nrows=2, ncols=1, height_ratios=[2, 10], hspace=0.1)\n",
        "\n",
        "# Tick labels\n",
        "x_tick_labels = [u'100\\N{DEGREE SIGN}E', u'110\\N{DEGREE SIGN}E',\n",
        "                 u'120\\N{DEGREE SIGN}E', u'130\\N{DEGREE SIGN}E']\n",
        "\n",
        "# Top plot for geographic reference (makes small map)\n",
        "ax1 = fig.add_subplot(gs[0, 0], projection=ccrs.PlateCarree(central_longitude=0))\n",
        "ax1.set_extent([113, 119, -2.5, 2.5], ccrs.PlateCarree(central_longitude=0))\n",
        "ax1.set_yticks([-2,0,2])\n",
        "ax1.set_yticklabels([u'2\\N{DEGREE SIGN}S', u'0\\N{DEGREE SIGN}N', u'2\\N{DEGREE SIGN}N'])\n",
        "ax1.set_xticks([113,115,117,119])\n",
        "ax1.set_xticklabels(x_tick_labels)\n",
        "ax1.grid(linestyle='dotted', linewidth=2)\n",
        "\n",
        "# Add geopolitical boundaries for map reference\n",
        "ax1.add_feature(cfeature.COASTLINE.with_scale('50m'))\n",
        "ax1.add_feature(cfeature.LAKES.with_scale('50m'), color='black', linewidths=0.5)\n",
        "\n",
        "# Set some titles\n",
        "plt.title('Hovmoller Diagram', loc='left')\n",
        "plt.title('MSWEP', loc='right')\n",
        "\n",
        "# Bottom plot for Hovmoller diagram\n",
        "ax2 = fig.add_subplot(gs[1, 0])\n",
        "ax2.invert_yaxis()  # Reverse the time order to do oldest first\n",
        "\n",
        "# Plot of chosen variable averaged over latitude and slightly smoothed\n",
        "clevs = [0,50,100,150,200,250,300,350,400]\n",
        "cf = ax2.contourf(lons, vtimes, mpcalc.smooth_n_point(\n",
        "    avg_data, 9, 2), clevs, cmap='RdYlBu', extend='max')\n",
        "#cs = ax2.contour(lons, vtimes, mpcalc.smooth_n_point(\n",
        "#    avg_data, 9, 2), clevs, colors='k', linewidths=1)\n",
        "cbar = plt.colorbar(cf, orientation='horizontal', pad=0.04, aspect=50)\n",
        "cbar.set_label('mm')\n",
        "\n",
        "# Make some ticks and tick labels\n",
        "ax2.set_xticks([113,115,117,119])\n",
        "ax2.set_xticklabels(x_tick_labels)\n",
        "ax2.set_yticks(vtimes[0::12])\n",
        "ax2.set_yticklabels(vtimes[0::12])\n",
        "\n",
        "# Set some titles\n",
        "plt.title('Precipitation', loc='left', fontsize=10)\n",
        "plt.title('Time Range: {0:%Y%m%d %HZ} - {1:%Y%m%d %HZ}'.format(vtimes[0], vtimes[-1]),\n",
        "          loc='right', fontsize=10)\n",
        "\n",
        "plt.show()"
      ],
      "metadata": {
        "id": "LlN5Z3AYURqa"
      },
      "execution_count": null,
      "outputs": []
    },
    {
      "cell_type": "markdown",
      "source": [
        "Wilayah Pantai Utara Jawa"
      ],
      "metadata": {
        "id": "eAdcokOUUR6k"
      }
    },
    {
      "cell_type": "code",
      "source": [
        "# Create time slice from dates\n",
        "start_time = '1990-01'\n",
        "end_time = '2019-12'\n",
        "\n",
        "# Select NCEP/NCAR parameter and level\n",
        "param = 'precipitation'\n",
        "#level = 850\n",
        "\n",
        "# Remote get dataset using OPeNDAP method via xarray\n",
        "ds = xr.open_dataset('/content/drive/MyDrive/Project Monsun/Data/MSWEP_MON_INA_197902-202011.nc'.format(param, start_time[:0]))\n",
        "\n",
        "# Create slice variables subset domain\n",
        "time_slice = slice(start_time, end_time)\n",
        "lat_slice = slice(-5.5, -7.5)\n",
        "lon_slice = slice(105, 115)\n",
        "\n",
        "# Get data, selecting time, level, lat/lon slice\n",
        "data = ds[param].sel(time=time_slice,\n",
        "                     lat=lat_slice,\n",
        "                     lon=lon_slice)\n",
        "\n",
        "# Compute weights and take weighted average over latitude dimension\n",
        "weights = np.cos(np.deg2rad(data.lat.values))\n",
        "avg_data = (data * weights[None, :, None]).sum(dim='lat') / np.sum(weights)\n",
        "\n",
        "# Get times and make array of datetime objects\n",
        "vtimes = data.time.values.astype('datetime64[ms]').astype('O')\n",
        "\n",
        "# Specify longitude values for chosen domain\n",
        "lons = data.lon.values\n",
        "\n",
        "\n",
        "# Start figure\n",
        "fig = plt.figure(figsize=(7, 25))\n",
        "\n",
        "# Use gridspec to help size elements of plot; small top plot and big bottom plot\n",
        "gs = gridspec.GridSpec(nrows=2, ncols=1, height_ratios=[2, 10], hspace=0.1)\n",
        "\n",
        "# Tick labels\n",
        "x_tick_labels = [u'105\\N{DEGREE SIGN}E', u'110\\N{DEGREE SIGN}E', u'115\\N{DEGREE SIGN}E']\n",
        "\n",
        "# Top plot for geographic reference (makes small map)\n",
        "ax1 = fig.add_subplot(gs[0, 0], projection=ccrs.PlateCarree(central_longitude=0))\n",
        "ax1.set_extent([105, 115, -5.5, -7.5], ccrs.PlateCarree(central_longitude=0))\n",
        "ax1.set_yticks([-7.5,-6.5,-5.5])\n",
        "ax1.set_yticklabels([u'7.5\\N{DEGREE SIGN}S', u'6.5\\N{DEGREE SIGN}S', u'5.5\\N{DEGREE SIGN}S'])\n",
        "ax1.set_xticks([105,110,115])\n",
        "ax1.set_xticklabels(x_tick_labels)\n",
        "ax1.grid(linestyle='dotted', linewidth=2)\n",
        "\n",
        "# Add geopolitical boundaries for map reference\n",
        "ax1.add_feature(cfeature.COASTLINE.with_scale('50m'))\n",
        "ax1.add_feature(cfeature.LAKES.with_scale('50m'), color='black', linewidths=0.5)\n",
        "\n",
        "# Set some titles\n",
        "plt.title('Hovmoller Diagram', loc='left')\n",
        "plt.title('MSWEP', loc='right')\n",
        "\n",
        "# Bottom plot for Hovmoller diagram\n",
        "ax2 = fig.add_subplot(gs[1, 0])\n",
        "ax2.invert_yaxis()  # Reverse the time order to do oldest first\n",
        "\n",
        "# Plot of chosen variable averaged over latitude and slightly smoothed\n",
        "clevs = [0,50,100,150,200,250,300,350,400]\n",
        "cf = ax2.contourf(lons, vtimes, mpcalc.smooth_n_point(\n",
        "    avg_data, 9, 2), clevs, cmap='RdYlBu', extend='max')\n",
        "#cs = ax2.contour(lons, vtimes, mpcalc.smooth_n_point(\n",
        "#    avg_data, 9, 2), clevs, colors='k', linewidths=1)\n",
        "cbar = plt.colorbar(cf, orientation='horizontal', pad=0.04, aspect=50)\n",
        "cbar.set_label('mm')\n",
        "\n",
        "# Make some ticks and tick labels\n",
        "ax2.set_xticks([105,110,115])\n",
        "ax2.set_xticklabels(x_tick_labels)\n",
        "ax2.set_yticks(vtimes[0::12])\n",
        "ax2.set_yticklabels(vtimes[0::12])\n",
        "\n",
        "# Set some titles\n",
        "plt.title('Precipitation', loc='left', fontsize=10)\n",
        "plt.title('Time Range: {0:%Y%m%d %HZ} - {1:%Y%m%d %HZ}'.format(vtimes[0], vtimes[-1]),\n",
        "          loc='right', fontsize=10)\n",
        "\n",
        "plt.show()"
      ],
      "metadata": {
        "id": "JTWkGcueUUny"
      },
      "execution_count": null,
      "outputs": []
    },
    {
      "cell_type": "markdown",
      "source": [
        "# ANN-ARIMA"
      ],
      "metadata": {
        "id": "UVonnw-xf_QK"
      }
    },
    {
      "cell_type": "markdown",
      "source": [
        "### **Step 1: Seasonal ARIMA**"
      ],
      "metadata": {
        "id": "WNpqsCicpS5f"
      }
    },
    {
      "cell_type": "code",
      "source": [
        "!pip install pmdarima"
      ],
      "metadata": {
        "id": "Tr10yYbr1dXq"
      },
      "execution_count": null,
      "outputs": []
    },
    {
      "cell_type": "code",
      "source": [
        "# Import the required libraries\n",
        "import pandas as pd\n",
        "from pmdarima import auto_arima\n",
        "import statsmodels.api as sm\n",
        "\n",
        "# Load the time series data into a pandas dataframe\n",
        "data = pd.read_excel('/content/drive/MyDrive/TA/indeksmonsunindo.xlsx')\n",
        "data = data[\"index\"]\n",
        "\n",
        "# Fit an auto-ARIMA model\n",
        "#model = auto_arima(data, seasonal=True, suppress_warnings=True, error_action=\"ignore\", trace=True)\n",
        "\n",
        "# Print the summary of the best ARIMA model\n",
        "#print(model.summary())"
      ],
      "metadata": {
        "id": "zLFbCCdI0Nzo"
      },
      "execution_count": null,
      "outputs": []
    },
    {
      "cell_type": "markdown",
      "source": [
        "Fitting Model SARIMA"
      ],
      "metadata": {
        "id": "IECuuf9kaoOu"
      }
    },
    {
      "cell_type": "code",
      "source": [
        "#Model terbaik berdasarkan minitab\n",
        "model = sm.tsa.statespace.SARIMAX(data, order=(0,0,3), seasonal_order=(0,1,5,12))\n",
        "res = model.fit(disp=False)\n",
        "print(res.summary())"
      ],
      "metadata": {
        "id": "mq8y3WRD6Pp9"
      },
      "execution_count": null,
      "outputs": []
    },
    {
      "cell_type": "code",
      "source": [
        "#Coba fitting model\n",
        "import numpy as np\n",
        "import pandas as pd\n",
        "from statsmodels.tsa.statespace.sarimax import SARIMAX\n",
        "from statsmodels.tsa.seasonal import seasonal_decompose\n",
        "\n",
        "# Load the data\n",
        "data = pd.read_excel('/content/drive/MyDrive/TA/indeksmonsunindo.xlsx')\n",
        "data = data[\"index\"]\n",
        "\n",
        "# Create a time series from the data\n",
        "ts = pd.Series(data, name='Monsoonal Index')\n",
        "\n",
        "# Plot the original time series data\n",
        "ts.plot()\n",
        "\n",
        "# Decompose the time series into its components\n",
        "#result = seasonal_decompose(ts, model='multiplicative')\n",
        "\n",
        "# Plot the decomposition result\n",
        "#result.plot()\n",
        "\n",
        "# Define the order of the SARIMA model\n",
        "order = (0, 0, 3)\n",
        "seasonal_order = (0, 1, 5, 12)\n",
        "\n",
        "# Fit the SARIMA model to the data\n",
        "model = SARIMAX(ts, order=order, seasonal_order=seasonal_order)\n",
        "results = model.fit()\n",
        "\n",
        "# Print the model summary\n",
        "print(results.summary())"
      ],
      "metadata": {
        "id": "x3yfWk84EP5J"
      },
      "execution_count": null,
      "outputs": []
    },
    {
      "cell_type": "markdown",
      "source": [
        "Print indeks model SARIMA"
      ],
      "metadata": {
        "id": "mCbLekwZa5Ev"
      }
    },
    {
      "cell_type": "code",
      "source": [
        "import pandas as pd\n",
        "import statsmodels.api as sm\n",
        "\n",
        "data = pd.read_excel('/content/drive/MyDrive/TA/indeksmonsunindo.xlsx')\n",
        "data = data[\"index\"]\n",
        "\n",
        "# Fit SARIMA model\n",
        "model = sm.tsa.SARIMAX(data, order=(0,0,3), seasonal_order=(0,1,4,12)).fit()\n",
        "\n",
        "# Extract index from SARIMAX object\n",
        "index = model.fittedvalues.index\n",
        "\n",
        "# Print index to console\n",
        "print(index)"
      ],
      "metadata": {
        "id": "T5rbgAG419ES"
      },
      "execution_count": null,
      "outputs": []
    },
    {
      "cell_type": "code",
      "source": [
        "data"
      ],
      "metadata": {
        "id": "1gadY6YXZWmV"
      },
      "execution_count": null,
      "outputs": []
    },
    {
      "cell_type": "code",
      "source": [
        "import pandas as pd\n",
        "\n",
        "# create a DataFrame with the data and index\n",
        "df = pd.DataFrame({'value': data.values}, index=data.index)\n",
        "\n",
        "# save the DataFrame to an Excel file\n",
        "df.to_excel('/content/drive/MyDrive/TA/data.xlsx', index=True)"
      ],
      "metadata": {
        "id": "kRpu64v_CMW5"
      },
      "execution_count": null,
      "outputs": []
    },
    {
      "cell_type": "code",
      "source": [
        "import pandas as pd\n",
        "import statsmodels.api as sm\n",
        "\n",
        "data = pd.read_excel('/content/drive/MyDrive/TA/data.xlsx')\n",
        "#data = data[\"value\"]\n",
        "\n",
        "# Fit SARIMA model\n",
        "model = sm.tsa.SARIMAX(data[\"value\"], order=(0,0,3), seasonal_order=(0,1,4,12)).fit()\n",
        "\n",
        "# Extract index from SARIMAX object\n",
        "index = model.fittedvalues.index\n",
        "index"
      ],
      "metadata": {
        "id": "ewTCFuR4Bk9c"
      },
      "execution_count": null,
      "outputs": []
    },
    {
      "cell_type": "code",
      "source": [
        "# Create a DataFrame with the index\n",
        "df = pd.DataFrame({'value': model.fittedvalues}, index=index)\n",
        "df"
      ],
      "metadata": {
        "id": "R3nbqoNVp1mn"
      },
      "execution_count": null,
      "outputs": []
    },
    {
      "cell_type": "code",
      "source": [
        "# Check for missing or NaN values\n",
        "print(df.isnull().sum())"
      ],
      "metadata": {
        "id": "vLihIgVVp-Gb"
      },
      "execution_count": null,
      "outputs": []
    },
    {
      "cell_type": "code",
      "source": [
        "# Save the DataFrame to an Excel file\n",
        "df.to_excel('/content/drive/MyDrive/TA/003-014-12.xlsx', index=False)"
      ],
      "metadata": {
        "id": "WC_kHHOnrRSu"
      },
      "execution_count": null,
      "outputs": []
    },
    {
      "cell_type": "markdown",
      "source": [
        "Auto ARIMA"
      ],
      "metadata": {
        "id": "up52padLZWgU"
      }
    },
    {
      "cell_type": "code",
      "source": [
        "import numpy as np\n",
        "import pandas as pd\n",
        "from pmdarima.arima import auto_arima\n",
        "import matplotlib.pyplot as plt\n",
        "\n",
        "# load data\n",
        "data = pd.read_excel('/content/drive/MyDrive/TA/indeksmonsunindo.xlsx')\n",
        "data = data[\"index\"]\n",
        "\n",
        "# fit the seasonal ARIMA model using auto_arima\n",
        "model = auto_arima(data, seasonal=True, suppress_warnings=True, error_action=\"ignore\", stepwise=False, trace=False)\n",
        "\n",
        "# print the ARIMA model parameters\n",
        "print(\"ARIMA model parameters: (p,d,q) = \", model.order)\n",
        "print(\"Seasonal ARIMA parameters: (P,D,Q,s) = \", model.seasonal_order)\n",
        "\n",
        "# plot the residuals\n",
        "residuals = model.resid()\n",
        "plt.plot(residuals)\n",
        "plt.title(\"Residuals Plot\")\n",
        "plt.xlabel(\"Time\")\n",
        "plt.ylabel(\"Residuals\")\n",
        "plt.show()"
      ],
      "metadata": {
        "id": "tDF_pDl6GiRn"
      },
      "execution_count": null,
      "outputs": []
    },
    {
      "cell_type": "markdown",
      "source": [
        "Validasi"
      ],
      "metadata": {
        "id": "mzYkJ8RTZZ2e"
      }
    },
    {
      "cell_type": "code",
      "source": [
        "import numpy as np\n",
        "import pandas as pd\n",
        "import matplotlib.pyplot as plt\n",
        "import statsmodels.api as sm\n",
        "from statsmodels.tsa.arima.model import ARIMA\n",
        "from sklearn.preprocessing import MinMaxScaler\n",
        "from keras.models import Sequential\n",
        "from keras.layers import Dense\n",
        "from statsmodels.tsa.stattools import adfuller\n",
        "\n",
        "# Load the data\n",
        "data = pd.read_excel('/content/drive/MyDrive/TA/indeksmonsunindo2.xlsx')\n",
        "\n",
        "# Fit the ARIMA model\n",
        "data=data[\"index\"]\n",
        "model = sm.tsa.statespace.SARIMAX(data, order=(0,0,3), seasonal_order=(0,1,4,12))\n",
        "model_fit = model.fit()\n",
        "\n",
        "\n",
        "# Make predictions with ARIMA model\n",
        "predictions = model_fit.predict(start=len(data), end=len(data)+11, typ='levels')\n",
        "predictions"
      ],
      "metadata": {
        "id": "tMczI2XypSAO"
      },
      "execution_count": null,
      "outputs": []
    },
    {
      "cell_type": "markdown",
      "source": [
        "Forecast SARIMA"
      ],
      "metadata": {
        "id": "s4Ia7BiByHX-"
      }
    },
    {
      "cell_type": "code",
      "source": [
        "import numpy as np\n",
        "import pandas as pd\n",
        "import matplotlib.pyplot as plt\n",
        "import statsmodels.api as sm\n",
        "from statsmodels.tsa.arima.model import ARIMA\n",
        "from sklearn.preprocessing import MinMaxScaler\n",
        "from keras.models import Sequential\n",
        "from keras.layers import Dense\n",
        "from statsmodels.tsa.stattools import adfuller\n",
        "\n",
        "# Load the data\n",
        "data = pd.read_excel('/content/drive/MyDrive/TA/indeksmonsunindo.xlsx')\n",
        "\n",
        "# Fit the ARIMA model\n",
        "data=data[\"index\"]\n",
        "model = sm.tsa.statespace.SARIMAX(data, order=(0,0,3), seasonal_order=(0,1,5,12))\n",
        "model_fit = model.fit()\n",
        "\n",
        "\n",
        "# Make predictions with ARIMA model\n",
        "predictions = model_fit.predict(start=len(data), end=len(data)+12, typ='levels')\n",
        "predictions"
      ],
      "metadata": {
        "id": "1g27c1JKyJ41"
      },
      "execution_count": null,
      "outputs": []
    },
    {
      "cell_type": "markdown",
      "source": [
        "### **Step 2: Model Seasonal ARIMA -> ANN 4 configuration**\n",
        "\n",
        "This script demonstrates how you can use ARIMA to make initial predictions, combine these predictions with the original data, and then process this combined data in four different configurations of an ANN. Note that the exact choice of model hyperparameters, such as the autoregressive window size and the number of epochs in the training process, will depend on the specifics of your data and problem."
      ],
      "metadata": {
        "id": "FpAXSopdqQ-M"
      }
    },
    {
      "cell_type": "markdown",
      "source": [
        "After a neural network has been created, it must be configured. The configuration step consists of examining input and target data, setting the network's input and output sizes to match the data, and choosing settings for processing inputs and outputs that will enable best network performance.\n",
        "\n",
        "In the context of an Artificial Neural Network (ANN), the configuration refers to the specifications or hyperparameters that define the structure and behavior of the network. These configurations can include the number of layers, the number of neurons in each layer, the activation function used, the type of learning algorithm, etc.\n",
        "\n",
        "Regarding the \"window in [3, 6, 9, 12],\" it could refer to the size of the sliding window used for processing the input time series data. In this case, the window size is being iterated through four different values: 3, 6, 9, and 12. A sliding window is a subset of consecutive observations from a time series that is moved along the time axis in equal increments. The size of the window determines the number of time steps used as input to predict the next time step. By iterating through different window sizes, the performance of the ANN model can be evaluated for different levels of input complexity. The optimal window size is typically chosen based on the performance metric, such as accuracy or mean squared error.\n",
        "\n",
        "The complexity of the ANN model is not necessarily related to the size of the window. The window size refers to the number of time steps used as input for the model. A smaller window size (such as 3) uses less data as input and may result in a simpler model, but it may also lead to loss of information and accuracy. A larger window size (such as 12) uses more data as input and may result in a more complex model, but it may also lead to improved accuracy and ability to capture longer term patterns. The choice of window size depends on the nature of the data and the specific requirements of the problem being solved."
      ],
      "metadata": {
        "id": "FicxFKB7iVzT"
      }
    },
    {
      "cell_type": "code",
      "source": [
        "import pandas as pd\n",
        "\n",
        "# Load the data\n",
        "data = pd.read_excel('/content/drive/MyDrive/TA/indekssarima.xlsx')\n",
        "data = data[\"index\"]\n",
        "data"
      ],
      "metadata": {
        "id": "Py0RmJfkT2R_"
      },
      "execution_count": null,
      "outputs": []
    },
    {
      "cell_type": "code",
      "source": [
        "from sklearn.preprocessing import MinMaxScaler\n",
        "from keras.models import Sequential\n",
        "from keras.layers import Dense\n",
        "import numpy as np\n",
        "\n",
        "# Scale the data for processing in ANN\n",
        "train = data.values\n",
        "train = train.reshape(-1, 1)\n",
        "\n",
        "scaler = MinMaxScaler()\n",
        "data_scaled = scaler.fit_transform(train)\n",
        "\n",
        "# Split the data into training and test sets\n",
        "train_data = data_scaled[:-13]\n",
        "test_data = data_scaled[-13:]\n",
        "\n",
        "train_data = train_data.reshape(-1, 1)\n",
        "test_data = test_data.reshape(-1, 1)\n",
        "\n",
        "# Create four configurations of the ANN model\n",
        "ann_models = []\n",
        "for window in [3, 6, 9, 12]:\n",
        "    # Initialize the ANN model\n",
        "    model = Sequential()\n",
        "    model.add(Dense(12, input_dim=1, activation='relu'))\n",
        "    model.add(Dense(1))\n",
        "    model.compile(loss='mean_squared_error', optimizer='adam')\n",
        "\n",
        "    # Train the ANN model\n",
        "    history = model.fit(train_data[:, -window:], train_data[:, 0], epochs=100, verbose=0)\n",
        "\n",
        "    # Make predictions with the ANN model\n",
        "    predictions_ann = model.predict(test_data[:, -window:])\n",
        "\n",
        "    # Invert the predictions\n",
        "    predictions_ann = scaler.inverse_transform(predictions_ann)\n",
        "\n",
        "    # Store the model and its predictions\n",
        "    ann_models.append((model, predictions_ann))\n",
        "\n",
        "# Combine the predictions from the four configurations of the ANN model\n",
        "predictions_combined = np.mean([predictions_ann for _, predictions_ann in ann_models], axis=0)\n",
        "predictions_combined"
      ],
      "metadata": {
        "id": "ld4qGotWLBxG"
      },
      "execution_count": null,
      "outputs": []
    },
    {
      "cell_type": "code",
      "source": [
        "import pandas as pd\n",
        "\n",
        "# Convert predictions_combined ndarray to DataFrame\n",
        "predictions_df = pd.DataFrame(predictions_combined)\n",
        "\n",
        "# Save DataFrame to Excel file\n",
        "predictions_df.to_excel('/content/drive/MyDrive/TA/ann_arima.xlsx', index=False)"
      ],
      "metadata": {
        "id": "FUGYBIeAkidp"
      },
      "execution_count": null,
      "outputs": []
    },
    {
      "cell_type": "markdown",
      "source": [
        "Coba print model ANN"
      ],
      "metadata": {
        "id": "9mflH3UEGusv"
      }
    },
    {
      "cell_type": "code",
      "source": [
        "import pandas as pd\n",
        "\n",
        "# Convert predictions_combined ndarray to DataFrame\n",
        "annmodel_df = pd.DataFrame(model_combined)\n",
        "\n",
        "# Save DataFrame to Excel file\n",
        "annmodel_df.to_excel('/content/drive/MyDrive/TA/ann_model.xlsx', index=False)"
      ],
      "metadata": {
        "id": "L3CH7KTnxPDl"
      },
      "execution_count": null,
      "outputs": []
    },
    {
      "cell_type": "markdown",
      "source": [
        "Dari sini, dibandingkan hasilnya mana yang hasil prediksinya lebih sesuai dengan data di 2019\n",
        "\n",
        "Didapatkan bahwa hasil hybrid ANN-ARIMA memiliki hasil prediksi yang lebih akurat\n"
      ],
      "metadata": {
        "id": "bp9ymJAUrmCz"
      }
    }
  ]
}